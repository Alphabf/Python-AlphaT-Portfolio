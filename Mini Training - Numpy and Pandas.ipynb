{
 "cells": [
  {
   "cell_type": "markdown",
   "id": "fa7a924b-4436-4e62-9bd5-ce8a6b34536d",
   "metadata": {},
   "source": [
    "# Mini Training - Numpy and Pandas\n",
    "Pandas and Numpy are 2 of the widely used python libraries in data science. They are very usely in \n",
    "big data. \n"
   ]
  },
  {
   "cell_type": "markdown",
   "id": "f1d49b53-cf24-44d8-a9a9-4404b04537a0",
   "metadata": {},
   "source": [
    "## 1- Numpy: Single and multi-dimensional numpy arrays\n",
    "NumPy is a Linear Algebra Library used for multidimensional arrays\n",
    "NumPy brings the best of two worlds: \n",
    "1. C/Fortran computational efficiency, \n",
    "2. Python language easy syntax \n"
   ]
  },
  {
   "cell_type": "markdown",
   "id": "a581e66d-ee25-48b0-babe-2abfbc9870bb",
   "metadata": {},
   "source": [
    "\\\n",
    "**Let's define a one-dimensional array**"
   ]
  },
  {
   "cell_type": "code",
   "execution_count": null,
   "id": "5ff5b112-81e5-4c80-8f7a-f11ac77e72fa",
   "metadata": {},
   "outputs": [],
   "source": [
    "import numpy as np"
   ]
  },
  {
   "cell_type": "code",
   "execution_count": null,
   "id": "9acaef32-2f28-4785-ae73-a8f5bbeaa8fc",
   "metadata": {},
   "outputs": [],
   "source": [
    "list_1 = [10,20,30,40,50,60,70,80]\n",
    "list_1"
   ]
  },
  {
   "cell_type": "markdown",
   "id": "eb56a206-3d27-4f66-804e-5bb87fce59cc",
   "metadata": {},
   "source": [
    "\\\n",
    "**Let's create a numpy array from the list \"my_list\"**"
   ]
  },
  {
   "cell_type": "code",
   "execution_count": null,
   "id": "e3232457-7634-494e-9782-d484c9f82c08",
   "metadata": {},
   "outputs": [],
   "source": [
    "my_array= np.array(list_1)\n",
    "my_array"
   ]
  },
  {
   "cell_type": "code",
   "execution_count": null,
   "id": "240688f1-3e4f-423d-b776-6f0a6626d2b1",
   "metadata": {},
   "outputs": [],
   "source": [
    "type(my_array)"
   ]
  },
  {
   "cell_type": "markdown",
   "id": "e689592c-c5ed-489f-a63c-4211e8033696",
   "metadata": {},
   "source": [
    "\\\n",
    "**Let's create Multi-dimensional (Matrix definition)** "
   ]
  },
  {
   "cell_type": "code",
   "execution_count": null,
   "id": "8acaf3c3-659d-44c2-af53-6f215db96f66",
   "metadata": {},
   "outputs": [],
   "source": [
    "my_matrix =np.array([ [2, 5, 8], [7, 3, 6]])\n",
    "my_matrix"
   ]
  },
  {
   "cell_type": "markdown",
   "id": "e9c5285c-28be-487d-9e8f-9adfba84327a",
   "metadata": {},
   "source": [
    "\\\n",
    "**Example 1: Write a code that creates the following 2x4 numpy array.**\n",
    "\n",
    "```\n",
    "[[3 7 9 3] \n",
    "[4 3 2 2]]\n",
    "```"
   ]
  },
  {
   "cell_type": "code",
   "execution_count": null,
   "id": "c5e06bf1-e927-4394-8873-ebead64bebe4",
   "metadata": {},
   "outputs": [],
   "source": [
    "# This is 4x4 matrix: 2 rows and 4 columns\n",
    "\n",
    "x =np.array([ [3, 7, 9, 3], [4, 3, 2, 2]])\n",
    "x"
   ]
  },
  {
   "cell_type": "code",
   "execution_count": null,
   "id": "e14aea63-dcac-4c34-baba-4c809ba8a6c2",
   "metadata": {},
   "outputs": [],
   "source": []
  },
  {
   "cell_type": "markdown",
   "id": "ed8ccefd-ee89-4c48-91f7-1203b6ed535d",
   "metadata": {},
   "source": [
    "## 2- Numpy: Numpy built-in methods and functions"
   ]
  },
  {
   "cell_type": "markdown",
   "id": "a319b86d-1b67-461d-b776-9781d3205ce8",
   "metadata": {},
   "source": [
    "**\"rand()\" uniform distribution between 0 and 1**"
   ]
  },
  {
   "cell_type": "code",
   "execution_count": null,
   "id": "0c858973-51a7-484e-9b78-e4563a1f3715",
   "metadata": {},
   "outputs": [],
   "source": [
    "x =np.random.rand(10)\n",
    "x"
   ]
  },
  {
   "cell_type": "markdown",
   "id": "c4bcc268-d2cd-42ce-972b-50b5c6949f81",
   "metadata": {},
   "source": [
    "\\\n",
    "**You can create a matrix of random number as well**"
   ]
  },
  {
   "cell_type": "code",
   "execution_count": null,
   "id": "e676e898-cd54-4a64-9b87-76d42fef6ab5",
   "metadata": {},
   "outputs": [],
   "source": [
    "x =np.random.rand(4,2)\n",
    "x"
   ]
  },
  {
   "cell_type": "markdown",
   "id": "52686266-4628-4ac1-8e1a-2991f53d7e85",
   "metadata": {},
   "source": [
    "\\\n",
    "**\"randint\" is used to generate random integers between upper and lower bounds**"
   ]
  },
  {
   "cell_type": "code",
   "execution_count": null,
   "id": "f1b5f704-b1e6-4a63-98f2-505d97ae2769",
   "metadata": {},
   "outputs": [],
   "source": [
    "x =np.random.randint(1, 10)\n",
    "x\n"
   ]
  },
  {
   "cell_type": "code",
   "execution_count": null,
   "id": "12189cf0-327d-43f7-b1f2-2a69aaad546a",
   "metadata": {},
   "outputs": [],
   "source": [
    "\n",
    "### Generate 5 random between 1 and 50\n",
    "for i in range(5):\n",
    "    x=np.random.randint(1, 50)\n",
    "    print(x)"
   ]
  },
  {
   "cell_type": "markdown",
   "id": "d612ebaf-efa3-4f8e-83c8-2abfce754765",
   "metadata": {},
   "source": [
    "\\\n",
    "**\"randint\" can be used to generate a certain number of random itegers as follows**\n"
   ]
  },
  {
   "cell_type": "code",
   "execution_count": null,
   "id": "d867a430-237a-41fa-b302-415b196d89aa",
   "metadata": {},
   "outputs": [],
   "source": [
    "x=np.random.randint(1,60,5)\n",
    "x"
   ]
  },
  {
   "cell_type": "markdown",
   "id": "02e2ba4b-e9a2-44b6-987f-1ac8269561c0",
   "metadata": {},
   "source": [
    "\\\n",
    "**np.arange creates an evenly spaced values within a given interval**"
   ]
  },
  {
   "cell_type": "code",
   "execution_count": null,
   "id": "db8bccf6-531e-419e-b119-dfa448b610eb",
   "metadata": {},
   "outputs": [],
   "source": [
    "x =np.arange(1, 50)\n",
    "x"
   ]
  },
  {
   "cell_type": "markdown",
   "id": "38877e10-8a13-4793-8ecf-6fe40e1ffbde",
   "metadata": {},
   "source": [
    "\\\n",
    "**create a diagonal of ones and zeros everywhere else**"
   ]
  },
  {
   "cell_type": "code",
   "execution_count": null,
   "id": "23f43750-dc8a-40b3-aa92-8a13856d8b62",
   "metadata": {},
   "outputs": [],
   "source": [
    "# create a diagonal of ones and zeros everywhere else\n",
    "x = np.eye(5)\n",
    "x"
   ]
  },
  {
   "cell_type": "markdown",
   "id": "24b8d0c9-657f-4cc8-9028-e0c780df91ad",
   "metadata": {},
   "source": [
    "\\\n",
    "**Matrix of ones**"
   ]
  },
  {
   "cell_type": "code",
   "execution_count": null,
   "id": "9a04846a-72b6-4a88-b8bd-1ec0c715cfb1",
   "metadata": {},
   "outputs": [],
   "source": [
    "# Matrix of ones\n",
    "x =np.ones((5,5))\n",
    "x"
   ]
  },
  {
   "cell_type": "markdown",
   "id": "b38bf24f-4b48-4d02-849a-590c26b69042",
   "metadata": {},
   "source": [
    "\\\n",
    "**Array of zeros**"
   ]
  },
  {
   "cell_type": "code",
   "execution_count": null,
   "id": "c9f1faf0-4223-426a-ba05-0d7e01035d42",
   "metadata": {},
   "outputs": [],
   "source": [
    "x=np.zeros(8)\n",
    "x"
   ]
  },
  {
   "cell_type": "markdown",
   "id": "7393fdc9-20eb-4595-a041-04e38beb4a2b",
   "metadata": {},
   "source": [
    "\\\n",
    "**For more to know: Google: Numpy nethod**"
   ]
  },
  {
   "cell_type": "markdown",
   "id": "7623e693-4f08-4eb6-a818-65c08f641303",
   "metadata": {},
   "source": [
    "\\\n",
    "**Example 2: Write a code that takes in a positive integer \"x\" from the user and creates a 1x10 array with random numbers ranging from 0 to \"x\"**"
   ]
  },
  {
   "cell_type": "code",
   "execution_count": null,
   "id": "1e5218de-19dc-4e28-a89d-c30bd4906b06",
   "metadata": {},
   "outputs": [],
   "source": [
    "# np.arange() returns an evenly spaced values within a given interval\n",
    "x = int(input(\"Enter a positive integer:\"))\n",
    "print(x)\n",
    "\n",
    "x =np.random.randint(1, 10)\n",
    "x"
   ]
  },
  {
   "cell_type": "code",
   "execution_count": null,
   "id": "dc07c34e-40ba-4cd9-9695-3f7e8cfeffd7",
   "metadata": {},
   "outputs": [],
   "source": [
    "x =np.random.randint(1,x, 10)\n",
    "x"
   ]
  },
  {
   "cell_type": "markdown",
   "id": "27c0184b-e3e6-4544-a8e2-724860522361",
   "metadata": {},
   "source": [
    "## 3- Perform Mathematical Operations in Numpy"
   ]
  },
  {
   "cell_type": "code",
   "execution_count": null,
   "id": "9d84ca80-57c5-4be2-95f1-7902c3f02208",
   "metadata": {},
   "outputs": [],
   "source": [
    "# np.arange() returns anevenly spaced values within a given intenal\n",
    "x = np.arange(1,10)\n",
    "x"
   ]
  },
  {
   "cell_type": "code",
   "execution_count": null,
   "id": "c758149e-a323-43de-88b1-afb95c270408",
   "metadata": {},
   "outputs": [],
   "source": [
    "# np.arange() returns anevenly spaced values within a given intenal\n",
    "y = np.arange(1,10)\n",
    "y"
   ]
  },
  {
   "cell_type": "code",
   "execution_count": null,
   "id": "7adf80b6-a0cb-4b3e-a1d1-dc64110d8067",
   "metadata": {},
   "outputs": [],
   "source": [
    "# Add 2 numpy arrays together\n",
    "sum = x + y\n",
    "sum"
   ]
  },
  {
   "cell_type": "code",
   "execution_count": null,
   "id": "6bbcfd08-65cc-41a0-a49b-598ec5edcb88",
   "metadata": {},
   "outputs": [],
   "source": [
    "squared= x**2\n",
    "squared"
   ]
  },
  {
   "cell_type": "code",
   "execution_count": null,
   "id": "36e045d1-3602-4c2d-a620-efe9cb4c9030",
   "metadata": {},
   "outputs": [],
   "source": [
    "sqrt=np.sqrt(squared)\n",
    "sqrt"
   ]
  },
  {
   "cell_type": "code",
   "execution_count": null,
   "id": "8f302dc2-b127-4bac-bd47-833ea388d117",
   "metadata": {},
   "outputs": [],
   "source": [
    "exp=np.exp(y)\n",
    "exp"
   ]
  },
  {
   "cell_type": "markdown",
   "id": "b6d04aaa-326f-4539-b83d-2b683623ce20",
   "metadata": {},
   "source": [
    "np.arange() returns evenly spaced values within a given interval"
   ]
  },
  {
   "cell_type": "code",
   "execution_count": null,
   "id": "3125698d-6569-4a74-b5bb-767317581c8f",
   "metadata": {},
   "outputs": [],
   "source": [
    "\n",
    "x = np.arange(1,10)\n",
    "x"
   ]
  },
  {
   "cell_type": "markdown",
   "id": "8c69c892-9546-4c04-92e0-443bdea0319a",
   "metadata": {},
   "source": [
    "\n",
    "**Example 3:**\n",
    "- Given the X and Y values below, obtain the distance between them\n",
    "\n",
    "```\n",
    "X = [5, 7, 20]\n",
    "\n",
    "Y = [9, 15, 4]\n",
    "```"
   ]
  },
  {
   "cell_type": "code",
   "execution_count": null,
   "id": "4f76aa34-5e63-48c1-871c-6ea28a195bc5",
   "metadata": {},
   "outputs": [],
   "source": [
    "x=np.array([5, 7, 20])\n",
    "y=np.array([5, 7, 20])\n",
    "\n",
    "z=np.sqrt(x**2 + y**2)\n",
    "z"
   ]
  },
  {
   "cell_type": "code",
   "execution_count": null,
   "id": "7d9f1824-ed1a-484e-a580-13e1a0382fd2",
   "metadata": {},
   "outputs": [],
   "source": []
  },
  {
   "cell_type": "code",
   "execution_count": null,
   "id": "5828bebd-815a-4055-bd3a-b1b88052a7f2",
   "metadata": {},
   "outputs": [],
   "source": []
  },
  {
   "cell_type": "code",
   "execution_count": null,
   "id": "b837fe23-b869-4a15-a67e-1939037666b8",
   "metadata": {},
   "outputs": [],
   "source": []
  },
  {
   "cell_type": "code",
   "execution_count": null,
   "id": "50d2fae8-b767-4f59-97eb-7503c61060ec",
   "metadata": {},
   "outputs": [],
   "source": []
  },
  {
   "cell_type": "markdown",
   "id": "ba9a2196-6c07-45ee-9bf4-15ee9733b8e1",
   "metadata": {},
   "source": [
    "np.arange() returns an evenly spaced values within a given interval"
   ]
  },
  {
   "cell_type": "code",
   "execution_count": null,
   "id": "314e0335-8424-4e54-9963-c2baaaeb358e",
   "metadata": {},
   "outputs": [],
   "source": [
    "\n",
    "y = np.arange(1,10)\n",
    "y"
   ]
  },
  {
   "cell_type": "markdown",
   "id": "57483269-c83f-4ad2-bde2-f98c57826711",
   "metadata": {},
   "source": [
    "Add 2 numpy arrays together"
   ]
  },
  {
   "cell_type": "code",
   "execution_count": null,
   "id": "52799a33-f609-4ee8-848e-f1725b2570b4",
   "metadata": {},
   "outputs": [],
   "source": [
    "sum = x + y\n",
    "sum"
   ]
  },
  {
   "cell_type": "markdown",
   "id": "ac8491fb-9b16-4a53-ba40-3469c59f3ff8",
   "metadata": {},
   "source": [
    "Use Squared"
   ]
  },
  {
   "cell_type": "code",
   "execution_count": null,
   "id": "76f6453c-4e93-4ac3-b358-3a3dd055fa51",
   "metadata": {},
   "outputs": [],
   "source": [
    "squared= x**2\n",
    "squared"
   ]
  },
  {
   "cell_type": "code",
   "execution_count": null,
   "id": "c2a4b2fa-c8ce-4ff4-b67c-160e3ac5709e",
   "metadata": {},
   "outputs": [],
   "source": [
    "sqrt=np.sqrt(squared)\n",
    "sqrt"
   ]
  },
  {
   "cell_type": "code",
   "execution_count": null,
   "id": "0499ac2c-e516-4805-9401-f4b9138f1293",
   "metadata": {},
   "outputs": [],
   "source": [
    "exp=np.exp(y)\n",
    "exp"
   ]
  },
  {
   "cell_type": "code",
   "execution_count": null,
   "id": "225089fd-fc6d-4d31-95c5-78a97e5ab65a",
   "metadata": {},
   "outputs": [],
   "source": []
  },
  {
   "cell_type": "markdown",
   "id": "a31b0430-5a39-48c4-aa57-69b704262333",
   "metadata": {},
   "source": [
    "\n",
    "**Example 3: Given the X and Y values below, obtain the distance between them**\n",
    "\n",
    "    X = [5, 7, 20]\n",
    "    Y = [9, 15, 4]"
   ]
  },
  {
   "cell_type": "code",
   "execution_count": null,
   "id": "2a264bc9-2824-4cce-84db-d0e8aa3c4923",
   "metadata": {},
   "outputs": [],
   "source": [
    "x=np.array([5, 7, 20])\n",
    "y=np.array([5, 7, 20])\n",
    "\n",
    "z=np.sqrt(x**2 + y**2)\n",
    "z"
   ]
  },
  {
   "cell_type": "code",
   "execution_count": null,
   "id": "5e27f0ea-5b7a-4a7c-9d42-610e0df57aff",
   "metadata": {},
   "outputs": [],
   "source": [
    "X = np.array([5, 7, 20])\n",
    "Y = np.array([9, 15, 4])\n",
    "Z = np.sqrt(X**2 + Y**2)\n",
    "Z"
   ]
  },
  {
   "cell_type": "markdown",
   "id": "1b26994c-a42a-4b72-b94f-b77f8e491431",
   "metadata": {},
   "source": [
    "## 3- Perform Mathematical operations in Numpy"
   ]
  },
  {
   "cell_type": "code",
   "execution_count": null,
   "id": "49e5c632-fb94-4faa-bc77-cb2860a56134",
   "metadata": {},
   "outputs": [],
   "source": [
    "my_np_array=np.array([2,5,6,8,9,7,1])\n",
    "my_np_array"
   ]
  },
  {
   "cell_type": "code",
   "execution_count": null,
   "id": "a8bc6f05-e39d-496b-a863-3bee99c38717",
   "metadata": {},
   "outputs": [],
   "source": [
    "# Access specific index from the numpy array\n",
    "my_np_array[0]"
   ]
  },
  {
   "cell_type": "code",
   "execution_count": null,
   "id": "3695e8b2-40ea-4392-8cf5-19971be130b3",
   "metadata": {},
   "outputs": [],
   "source": [
    "# Access specific index from the numpy array\n",
    "my_np_array[-1]\n"
   ]
  },
  {
   "cell_type": "code",
   "execution_count": null,
   "id": "65f120ed-54a0-43d7-8e94-f6f086740582",
   "metadata": {},
   "outputs": [],
   "source": [
    "# Starting from the first index 0 up until and NOT including the last element\n",
    "my_np_array[0:3]"
   ]
  },
  {
   "cell_type": "code",
   "execution_count": null,
   "id": "3cd060a4-b9d3-4d7d-acc7-63627770fefd",
   "metadata": {},
   "outputs": [],
   "source": [
    "# Broadcasting, altering several values in a numpy array at once\n",
    "my_np_array[0:4] =7\n",
    "my_np_array"
   ]
  },
  {
   "cell_type": "code",
   "execution_count": null,
   "id": "aa746c2d-0e32-49e1-a8c0-4e3272c13137",
   "metadata": {},
   "outputs": [],
   "source": [
    "# Let's define a two dimensional numpy array\n",
    "matrix =np.random.randint(1,10,(4,4))\n",
    "matrix"
   ]
  },
  {
   "cell_type": "code",
   "execution_count": null,
   "id": "af37273b-88a9-4988-8af1-92d89fcfe5bf",
   "metadata": {},
   "outputs": [],
   "source": [
    "# Get a row from a mtrix\n",
    "matrix[0]"
   ]
  },
  {
   "cell_type": "code",
   "execution_count": null,
   "id": "69b2ffa8-3509-4c50-bd77-95143e6b5ddc",
   "metadata": {},
   "outputs": [],
   "source": [
    "# Get one element\n",
    "matrix[0][0]"
   ]
  },
  {
   "cell_type": "markdown",
   "id": "e3800f8e-8955-4572-a236-4a45e790c59f",
   "metadata": {},
   "source": [
    "\n",
    "**Example 4: In the following matrix, replace the last row 0**.<br>\n",
    "X =np.array([<br>[2, 30, 20, -2, -4],<br>\n",
    "                    [3, 4,  40, -3, -2],<br>\n",
    "                    [-3, 4, -6, 90, 10],<br>\n",
    "                    [25, 45, 34, 22, 12],<br>\n",
    "                    [13, 24, 22, 32, 37]])"
   ]
  },
  {
   "cell_type": "code",
   "execution_count": null,
   "id": "fc45c854-cb96-4af5-bd23-71f8aad9cdb1",
   "metadata": {},
   "outputs": [],
   "source": [
    "X =np.array([[2, 30, 20, -2, -4], \n",
    "             [3, 4,  40, -3, -2],\n",
    "             [-3, 4, -6, 90, 10], \n",
    "             [25, 45, 34, 22, 12], \n",
    "             [13, 24, 22, 32, 37]])\n",
    "X"
   ]
  },
  {
   "cell_type": "code",
   "execution_count": null,
   "id": "037d22e3-a939-4c79-815f-78d34dfc7224",
   "metadata": {},
   "outputs": [],
   "source": [
    "X[4]=0\n",
    "X"
   ]
  },
  {
   "cell_type": "code",
   "execution_count": null,
   "id": "d71377d2-bd47-44f4-a5e2-a60bf7bcba40",
   "metadata": {},
   "outputs": [],
   "source": []
  },
  {
   "cell_type": "markdown",
   "id": "f84d31e3-0ac2-412b-b77e-700f58449e89",
   "metadata": {},
   "source": [
    "## 4- Perform Array slicing and indexing"
   ]
  },
  {
   "cell_type": "code",
   "execution_count": null,
   "id": "80870bac-edc5-4915-bc2a-0893ea5c6ce7",
   "metadata": {},
   "outputs": [],
   "source": [
    "my_np_array=np.array([2,5,6,8,9,7,1])\n",
    "my_np_array"
   ]
  },
  {
   "cell_type": "code",
   "execution_count": null,
   "id": "ecbb9f3b-ddc4-41e0-bd19-73fc2c39143d",
   "metadata": {},
   "outputs": [],
   "source": []
  },
  {
   "cell_type": "code",
   "execution_count": null,
   "id": "e6c7da04-ace5-49ff-a0a1-9687fb749f6e",
   "metadata": {},
   "outputs": [],
   "source": [
    "# Access specific index from the numpy array\n",
    "my_np_array[0]"
   ]
  },
  {
   "cell_type": "code",
   "execution_count": null,
   "id": "1af143ef-8d17-486b-9c99-84ea3fade87e",
   "metadata": {},
   "outputs": [],
   "source": [
    "# Starting from the first index 0 up until and NOT including the last element\n",
    "my_np_array[0:3]\n"
   ]
  },
  {
   "cell_type": "code",
   "execution_count": null,
   "id": "2194c282-5c03-4a2e-977c-77d823d2accc",
   "metadata": {},
   "outputs": [],
   "source": [
    "# Broadcasting, altering several values in a numpy array at once\n",
    "my_np_array[0:4] =7\n",
    "my_np_array"
   ]
  },
  {
   "cell_type": "code",
   "execution_count": null,
   "id": "0880a0f7-40ea-4a01-adec-fd5af8fb7697",
   "metadata": {},
   "outputs": [],
   "source": [
    "# Let's define a two dimensional numpy array\n",
    "matrix =np.random.randint(1,10,(4,4))\n",
    "matrix"
   ]
  },
  {
   "cell_type": "code",
   "execution_count": null,
   "id": "c342783d-a742-422a-b382-9c54bf7a10ee",
   "metadata": {},
   "outputs": [],
   "source": [
    "# Get a row from a mtrix\n",
    "matrix[0]"
   ]
  },
  {
   "cell_type": "code",
   "execution_count": null,
   "id": "b1410667-7105-44d9-8ad8-24f2683c2164",
   "metadata": {},
   "outputs": [],
   "source": [
    "# Get one element\n",
    "matrix[0][0]"
   ]
  },
  {
   "cell_type": "markdown",
   "id": "484f25ee-1b1a-4804-8627-81a76e000bfa",
   "metadata": {},
   "source": [
    "**Example 4:**\n",
    "- In the following matrix, replace the last row 0\n",
    "X =na.array([[2, 30, 20, -2, -4],\n",
    "             [3, 4,  40, -3, -2],\n",
    "             [-3, 4, -6, 90, 10],\n",
    "             [25, 45, 34, 22, 12],\n",
    "             [13, 24, 22, 32, 37]])"
   ]
  },
  {
   "cell_type": "code",
   "execution_count": null,
   "id": "879e3b7c-ba0b-4423-a2dc-c198fb96ab3c",
   "metadata": {},
   "outputs": [],
   "source": [
    "X =np.array([[2, 30, 20, -2, -4],\n",
    "             [3, 4,  40, -3, -2],\n",
    "             [-3, 4, -6, 90, 10],\n",
    "             [25, 45, 34, 22, 12],\n",
    "             [13, 24, 22, 32, 37]])"
   ]
  },
  {
   "cell_type": "code",
   "execution_count": null,
   "id": "93e8d7e5-dee0-43fe-bb34-7d94a442a06b",
   "metadata": {},
   "outputs": [],
   "source": [
    "X[4]=0\n",
    "X"
   ]
  },
  {
   "cell_type": "code",
   "execution_count": null,
   "id": "6d3f0aa0-caf2-4598-96a8-48f417cf5b9c",
   "metadata": {},
   "outputs": [],
   "source": []
  },
  {
   "cell_type": "markdown",
   "id": "dd1fa521-cff9-47a4-89ed-a2085acead33",
   "metadata": {},
   "source": [
    "## 5- Perform Elements Selection (Conditional)"
   ]
  },
  {
   "cell_type": "code",
   "execution_count": null,
   "id": "7f8cd7b6-b3e8-4bc6-9a23-d27c21638c81",
   "metadata": {},
   "outputs": [],
   "source": [
    "matrix =np.random.randint(1,10,(5,5))\n",
    "matrix"
   ]
  },
  {
   "cell_type": "code",
   "execution_count": null,
   "id": "65a23367-a85e-428f-ab36-767953d314cf",
   "metadata": {},
   "outputs": [],
   "source": [
    "new_matrix = matrix[ matrix >7]\n",
    "new_matrix"
   ]
  },
  {
   "cell_type": "code",
   "execution_count": null,
   "id": "b9238b87-6e8f-4d1a-8b7e-5f711f0f43b5",
   "metadata": {},
   "outputs": [],
   "source": [
    "# Obtain odd elements only\n",
    "new_matrix = matrix[ matrix % 2 ==1]\n",
    "new_matrix"
   ]
  },
  {
   "cell_type": "markdown",
   "id": "8bf0bf71-412a-4519-85b1-79b4b46efe15",
   "metadata": {},
   "source": [
    "**Example 5:**\n",
    "- In the following matrix, replace negative elements by 0 and replace odd elements with -2\n",
    "\n",
    "\n",
    "```\n",
    "X = [2 30 20 -2 -4]\n",
    "    [3 4  40 -3 -2]\n",
    "    [-3 4 -6 90 10]\n",
    "    [25 45 34 22 12]\n",
    "    [13 24 22 32 37]"
   ]
  },
  {
   "cell_type": "code",
   "execution_count": null,
   "id": "54e8716b-10d9-4f65-87ec-47a5523359bc",
   "metadata": {},
   "outputs": [],
   "source": [
    "X = np.array([[2, 30, 20, -2, -4],\n",
    "    [3, 4,  40, -3, -2],\n",
    "    [-3, 4, -6, 90, 10],\n",
    "    [25, 45, 34, 22, 12],\n",
    "    [13, 24 ,22, 32, 37]])\n",
    "X"
   ]
  },
  {
   "cell_type": "code",
   "execution_count": null,
   "id": "b895a834-5a54-4165-8380-5a74cff6c19d",
   "metadata": {},
   "outputs": [],
   "source": [
    "X[ X < 0] = 0\n",
    "X[X%2 == 1] =-2\n",
    "X"
   ]
  },
  {
   "cell_type": "markdown",
   "id": "19ba2b13-4c2f-46e3-bb98-30e04888ee29",
   "metadata": {},
   "source": [
    "## 6- Understand Pandas Fundamentals"
   ]
  },
  {
   "cell_type": "code",
   "execution_count": null,
   "id": "8131c4d5-d4a7-4df2-88f4-24fb40c0db25",
   "metadata": {},
   "outputs": [],
   "source": [
    "# Pandas is a data manipulation and analysis tool that is built on Numpy.\n",
    "# Pandas uses a data structure known as DataFrame (think of it as Microsoft excel in Python). \n",
    "# DataFrames empower programmers to store and manipulate data in a tabular fashion (rows and columns).\n",
    "# Series Vs. DataFrame? Series is considered a single column of a DataFrame."
   ]
  },
  {
   "cell_type": "code",
   "execution_count": null,
   "id": "ddcf8e20-99aa-4274-8896-b584c1dea35d",
   "metadata": {},
   "outputs": [],
   "source": [
    "import pandas as pd"
   ]
  },
  {
   "cell_type": "code",
   "execution_count": null,
   "id": "9feb5bac-d571-478b-8303-05e202863a49",
   "metadata": {},
   "outputs": [],
   "source": [
    "# Let's define a two-dimensional Pandas DataFrame\n",
    "# Note that you can create a pandas dataframe from a python dictionary\n",
    "\n",
    "bank_client_df =pd.DataFrame({'Bank Client ID':[111, 222, 333, 444],\n",
    "                           'Bank Client Name':['Chanel', 'Steve', 'Mitch', 'Ryan'],\n",
    "                           'Net Worth [$]': [3500, 4500, 10000, 20000],\n",
    "                           'Years with bank': [3, 5, 9, 10]})\n",
    "bank_client_df"
   ]
  },
  {
   "cell_type": "code",
   "execution_count": null,
   "id": "bd5f9d00-5cfb-449d-9ecb-e19d9878c929",
   "metadata": {},
   "outputs": [],
   "source": [
    "# Let's obtain the data type \n",
    "type(bank_client_df)"
   ]
  },
  {
   "cell_type": "code",
   "execution_count": null,
   "id": "e4d3ceac-de30-40d0-a2fa-b7d5e44749ad",
   "metadata": {},
   "outputs": [],
   "source": [
    "# you can only view the first couple of rows using .head()\n",
    "bank_client_df.head(2)"
   ]
  },
  {
   "cell_type": "code",
   "execution_count": null,
   "id": "79c9e4fe-7c51-4302-82b9-500b9f43fb49",
   "metadata": {},
   "outputs": [],
   "source": [
    "# you can only view the last couple of rows using .tail()\n",
    "bank_client_df.tail(2)"
   ]
  },
  {
   "cell_type": "markdown",
   "id": "d60f0a0f-b5a8-4a91-95d3-6d981fd1bc24",
   "metadata": {},
   "source": [
    "**Example 6:**\n",
    "- A porfolio contains a collection of securities such as stocks, bonds and ETFs. Define a dataframe named 'portfolio_df' that holds 3 different stock ticker symbols, number of shares, and price per share (feel free to choose any stocks)\n",
    "- Calculate the total value of the porfolio including all stocks"
   ]
  },
  {
   "cell_type": "code",
   "execution_count": null,
   "id": "4df1fb44-690c-4689-97cc-3080e9443cda",
   "metadata": {},
   "outputs": [],
   "source": [
    "import pandas as pd;\n",
    "\n",
    "portfolio_df= pd.DataFrame({'stock ticker symbol':['AAPL', 'AMZN', 'T'],\n",
    "                            'price per share [$]':[3500, 200, 100],\n",
    "                            'Number of stocks':[3, 4, 9]\n",
    "                           })\n",
    "portfolio_df"
   ]
  },
  {
   "cell_type": "code",
   "execution_count": null,
   "id": "10b0750b-5b74-43fa-a5db-eccd24086559",
   "metadata": {},
   "outputs": [],
   "source": [
    "stock_dollar_value = portfolio_df['price per share [$]'] * portfolio_df['Number of stocks']\n",
    "stock_dollar_value"
   ]
  },
  {
   "cell_type": "code",
   "execution_count": null,
   "id": "7bb880a3-7c03-4ef7-b133-48b97e235073",
   "metadata": {},
   "outputs": [],
   "source": [
    "stock_dollar_value.sum()"
   ]
  },
  {
   "cell_type": "markdown",
   "id": "48e35548-454a-47a2-80cb-f5838c4300c7",
   "metadata": {},
   "source": [
    "## 7- Pandas with CSV AND HTML data\n",
    "http://www.livingin-canada.com/house-prices-canada.html "
   ]
  },
  {
   "cell_type": "code",
   "execution_count": null,
   "id": "a68c48b2-ed0f-4c98-af63-961df76d2c8f",
   "metadata": {},
   "outputs": [],
   "source": [
    "# Pandas is used to read a csv file and store data in a DataFrame"
   ]
  },
  {
   "cell_type": "code",
   "execution_count": null,
   "id": "a875ea53-2319-4339-805e-f411991f680c",
   "metadata": {},
   "outputs": [],
   "source": [
    "# Read tabular data using read_html\n",
    "# After <read_> press TAB to check the options\n",
    "house_price_df = pd.read_html(\"http://www.livingin-canada.com/house-prices-canada.html\")\n",
    "house_price_df[0]\n",
    "# If not working: Run:  !pip install lxml\n",
    "# !python -m pip install --upgrade pip\n",
    "\n",
    "# First table\n",
    "\n"
   ]
  },
  {
   "cell_type": "code",
   "execution_count": null,
   "id": "a7f53242-a081-4ac8-b795-dd2415c7916a",
   "metadata": {},
   "outputs": [],
   "source": [
    "# First table\n",
    "house_price_df[1]"
   ]
  },
  {
   "cell_type": "markdown",
   "id": "2f00bc05-2d2a-4f26-b917-2fbc90e9a204",
   "metadata": {},
   "source": [
    "**Example 7:**\n",
    "- Write a code that uses Pandas to read tabular US retirement data\n",
    "- You can use data from here: https://www.ssa.gov/oact/progdata/nra.html "
   ]
  },
  {
   "cell_type": "code",
   "execution_count": null,
   "id": "4dc34ad3-e4c9-48f4-a42b-cf2506a71770",
   "metadata": {},
   "outputs": [],
   "source": [
    "retirement_df = pd.read_html(\"https://www.ssa.gov/oact/progdata/nra.html\")\n",
    "retirement_df[0]"
   ]
  },
  {
   "cell_type": "markdown",
   "id": "71f8bb7b-f66a-430b-8e25-6ac9a18ba203",
   "metadata": {},
   "source": [
    "## 8- Pandas Operations"
   ]
  },
  {
   "cell_type": "code",
   "execution_count": null,
   "id": "816237e7-bf92-4846-9f10-373485226525",
   "metadata": {},
   "outputs": [],
   "source": [
    "# Let's define a dataframe as follows:\n",
    "\n",
    "bank_client_df =pd.DataFrame({'Bank Client ID':[111, 222, 333, 444],\n",
    "                           'Bank Client Name':['Chanel', 'Steve', 'Mitch', 'Ryan'],\n",
    "                           'Net Worth [$]': [3500, 4500, 10000, 20000],\n",
    "                           'Years with bank': [3, 5, 9, 10]})\n",
    "bank_client_df"
   ]
  },
  {
   "cell_type": "code",
   "execution_count": null,
   "id": "ce9ff6bc-235e-4557-92b5-58d45f9b71df",
   "metadata": {},
   "outputs": [],
   "source": [
    "# Pick certain rows that satisfy a certain criteria \n",
    "df_loyal = bank_client_df[ bank_client_df[\"Years with bank\"] >=5 ]\n",
    "df_loyal"
   ]
  },
  {
   "cell_type": "code",
   "execution_count": null,
   "id": "fc5afb92-bcbd-4a6e-b4ab-35932724d14d",
   "metadata": {},
   "outputs": [],
   "source": [
    "# Delete a column from a DataFrame\n",
    " # del bank_client_df[\"Bank Client ID\"]\n",
    " # bank_client_df"
   ]
  },
  {
   "cell_type": "markdown",
   "id": "c6ae4c23-9ffc-4222-9c66-4ef20ff36f65",
   "metadata": {},
   "source": [
    "**Example 8:**\n",
    "- Using \"bank_client_df\" DataFrame, leverage pandas operations to only select high networth individuals with minimum $5000 \n",
    "- What is the combined networth for all customers with 5000+ networth?"
   ]
  },
  {
   "cell_type": "code",
   "execution_count": 148,
   "id": "098496da-7773-422c-bd4a-52ae4191be1b",
   "metadata": {},
   "outputs": [
    {
     "data": {
      "text/html": [
       "<div>\n",
       "<style scoped>\n",
       "    .dataframe tbody tr th:only-of-type {\n",
       "        vertical-align: middle;\n",
       "    }\n",
       "\n",
       "    .dataframe tbody tr th {\n",
       "        vertical-align: top;\n",
       "    }\n",
       "\n",
       "    .dataframe thead th {\n",
       "        text-align: right;\n",
       "    }\n",
       "</style>\n",
       "<table border=\"1\" class=\"dataframe\">\n",
       "  <thead>\n",
       "    <tr style=\"text-align: right;\">\n",
       "      <th></th>\n",
       "      <th>Bank Client ID</th>\n",
       "      <th>Bank Client Name</th>\n",
       "      <th>Net Worth [$]</th>\n",
       "      <th>Years with bank</th>\n",
       "    </tr>\n",
       "  </thead>\n",
       "  <tbody>\n",
       "    <tr>\n",
       "      <th>2</th>\n",
       "      <td>333</td>\n",
       "      <td>Mitch</td>\n",
       "      <td>10000</td>\n",
       "      <td>9</td>\n",
       "    </tr>\n",
       "    <tr>\n",
       "      <th>3</th>\n",
       "      <td>444</td>\n",
       "      <td>Ryan</td>\n",
       "      <td>20000</td>\n",
       "      <td>10</td>\n",
       "    </tr>\n",
       "  </tbody>\n",
       "</table>\n",
       "</div>"
      ],
      "text/plain": [
       "   Bank Client ID Bank Client Name  Net Worth [$]  Years with bank\n",
       "2             333            Mitch          10000                9\n",
       "3             444             Ryan          20000               10"
      ]
     },
     "execution_count": 148,
     "metadata": {},
     "output_type": "execute_result"
    }
   ],
   "source": [
    "df_high_network = bank_client_df[  bank_client_df[\"Net Worth [$]\"] >=5000 ]\n",
    "df_high_network"
   ]
  },
  {
   "cell_type": "code",
   "execution_count": null,
   "id": "314f1415-c8ed-409f-89c6-5d042d75cdca",
   "metadata": {},
   "outputs": [],
   "source": []
  },
  {
   "cell_type": "code",
   "execution_count": 149,
   "id": "be8e38fd-9e15-4e8d-b068-1e68273dd188",
   "metadata": {},
   "outputs": [
    {
     "data": {
      "text/plain": [
       "np.int64(30000)"
      ]
     },
     "execution_count": 149,
     "metadata": {},
     "output_type": "execute_result"
    }
   ],
   "source": [
    "df_high_network[\"Net Worth [$]\"].sum()"
   ]
  },
  {
   "cell_type": "markdown",
   "id": "3d46a8ee-763e-457a-b409-4006a9a96c4b",
   "metadata": {},
   "source": [
    "## 9: Pandas with Functions"
   ]
  },
  {
   "cell_type": "code",
   "execution_count": 150,
   "id": "acf19fcf-989f-4663-a242-f93619e803f2",
   "metadata": {},
   "outputs": [
    {
     "data": {
      "text/html": [
       "<div>\n",
       "<style scoped>\n",
       "    .dataframe tbody tr th:only-of-type {\n",
       "        vertical-align: middle;\n",
       "    }\n",
       "\n",
       "    .dataframe tbody tr th {\n",
       "        vertical-align: top;\n",
       "    }\n",
       "\n",
       "    .dataframe thead th {\n",
       "        text-align: right;\n",
       "    }\n",
       "</style>\n",
       "<table border=\"1\" class=\"dataframe\">\n",
       "  <thead>\n",
       "    <tr style=\"text-align: right;\">\n",
       "      <th></th>\n",
       "      <th>Bank client ID</th>\n",
       "      <th>Bank Client Name</th>\n",
       "      <th>Net worth [$]</th>\n",
       "      <th>Years with bank</th>\n",
       "    </tr>\n",
       "  </thead>\n",
       "  <tbody>\n",
       "    <tr>\n",
       "      <th>0</th>\n",
       "      <td>111</td>\n",
       "      <td>Chanel</td>\n",
       "      <td>3500</td>\n",
       "      <td>3</td>\n",
       "    </tr>\n",
       "    <tr>\n",
       "      <th>1</th>\n",
       "      <td>222</td>\n",
       "      <td>Steve</td>\n",
       "      <td>29000</td>\n",
       "      <td>4</td>\n",
       "    </tr>\n",
       "    <tr>\n",
       "      <th>2</th>\n",
       "      <td>333</td>\n",
       "      <td>Mitch</td>\n",
       "      <td>10000</td>\n",
       "      <td>9</td>\n",
       "    </tr>\n",
       "    <tr>\n",
       "      <th>3</th>\n",
       "      <td>444</td>\n",
       "      <td>Ryan</td>\n",
       "      <td>2000</td>\n",
       "      <td>5</td>\n",
       "    </tr>\n",
       "  </tbody>\n",
       "</table>\n",
       "</div>"
      ],
      "text/plain": [
       "   Bank client ID Bank Client Name  Net worth [$]  Years with bank\n",
       "0             111           Chanel           3500                3\n",
       "1             222            Steve          29000                4\n",
       "2             333            Mitch          10000                9\n",
       "3             444             Ryan           2000                5"
      ]
     },
     "execution_count": 150,
     "metadata": {},
     "output_type": "execute_result"
    }
   ],
   "source": [
    "# Let's define a dataframe as follows:\n",
    "bank_client_df = pd.DataFrame({'Bank client ID':[111, 222, 333, 444], \n",
    "                               'Bank Client Name':['Chanel', 'Steve', 'Mitch', 'Ryan'], \n",
    "                               'Net worth [$]':[3500, 29000, 10000, 2000], \n",
    "                               'Years with bank':[3, 4, 9, 5]})\n",
    "bank_client_df"
   ]
  },
  {
   "cell_type": "code",
   "execution_count": 151,
   "id": "25d9e980-188b-42dd-9eb0-feaf5c764ce0",
   "metadata": {},
   "outputs": [],
   "source": [
    "# Define a function that increases all clients networth (stocks) by a fixed value of 20% (for simplicity sake) \n",
    "def networth_update(balance):\n",
    "    return balance*1.2"
   ]
  },
  {
   "cell_type": "code",
   "execution_count": 152,
   "id": "b0f2a5b3-c73a-4cf8-b001-0b6eaa14a581",
   "metadata": {},
   "outputs": [
    {
     "data": {
      "text/plain": [
       "0     4200.0\n",
       "1    34800.0\n",
       "2    12000.0\n",
       "3     2400.0\n",
       "Name: Net worth [$], dtype: float64"
      ]
     },
     "execution_count": 152,
     "metadata": {},
     "output_type": "execute_result"
    }
   ],
   "source": [
    "# You can apply a function to the DataFrame \n",
    "bank_client_df['Net worth [$]'].apply(networth_update)"
   ]
  },
  {
   "cell_type": "code",
   "execution_count": 153,
   "id": "2ee4439a-4ef4-4d3f-84ca-eea5e02668c8",
   "metadata": {},
   "outputs": [
    {
     "data": {
      "text/plain": [
       "0    6\n",
       "1    5\n",
       "2    5\n",
       "3    4\n",
       "Name: Bank Client Name, dtype: int64"
      ]
     },
     "execution_count": 153,
     "metadata": {},
     "output_type": "execute_result"
    }
   ],
   "source": [
    "bank_client_df['Bank Client Name'].apply(len)"
   ]
  },
  {
   "cell_type": "markdown",
   "id": "248e9b5c-b628-410c-839a-624097ec8161",
   "metadata": {},
   "source": [
    "**Example 9:**\n",
    "- Define a function that triples the stock prices and adds $200\n",
    "- Apply the function to the DataFrame\n",
    "- Calculate the updated total networth of all clients combined"
   ]
  },
  {
   "cell_type": "code",
   "execution_count": 154,
   "id": "1b010d18-0e81-4107-8f86-5e5f8ff69dd8",
   "metadata": {},
   "outputs": [],
   "source": [
    "def networth_upate(balance):\n",
    "    return balance * 3 + 200"
   ]
  },
  {
   "cell_type": "code",
   "execution_count": 155,
   "id": "7ee7bdba-456e-4a3e-97ad-d647fb524e52",
   "metadata": {},
   "outputs": [],
   "source": [
    "results = bank_client_df['Net worth [$]'].apply(networth_update)"
   ]
  },
  {
   "cell_type": "code",
   "execution_count": 156,
   "id": "01172c46-6bc8-467e-b69a-6fe4e5af4e6a",
   "metadata": {},
   "outputs": [
    {
     "data": {
      "text/plain": [
       "0     4200.0\n",
       "1    34800.0\n",
       "2    12000.0\n",
       "3     2400.0\n",
       "Name: Net worth [$], dtype: float64"
      ]
     },
     "execution_count": 156,
     "metadata": {},
     "output_type": "execute_result"
    }
   ],
   "source": [
    "results"
   ]
  },
  {
   "cell_type": "code",
   "execution_count": 157,
   "id": "e076ab3e-4075-4db9-b5fb-bf4d3cf457d8",
   "metadata": {},
   "outputs": [
    {
     "data": {
      "text/plain": [
       "np.float64(53400.0)"
      ]
     },
     "execution_count": 157,
     "metadata": {},
     "output_type": "execute_result"
    }
   ],
   "source": [
    "results.sum()"
   ]
  },
  {
   "cell_type": "markdown",
   "id": "02c4aff6-076d-470a-86cd-6cd4c203237b",
   "metadata": {},
   "source": [
    "## 10: Perform sorting and ordering in Pandas"
   ]
  },
  {
   "cell_type": "code",
   "execution_count": null,
   "id": "26a37218-976e-4851-a53d-db0d5967296a",
   "metadata": {},
   "outputs": [],
   "source": [
    "# Let's define a dataframe as follows:\n",
    "bank_client_df = pd.DataFrame({'Bank client ID':[111, 222, 333, 444], \n",
    "                               'Bank Client Name':['Chanel', 'Steve', 'Mitch', 'Ryan'], \n",
    "                               'Net worth [$]':[3500, 29000, 10000, 2000], \n",
    "                               'Years with bank':[3, 4, 9, 5]})\n",
    "bank_client_df"
   ]
  },
  {
   "cell_type": "code",
   "execution_count": null,
   "id": "4574d5ab-7eca-4488-a726-ace4104ca93b",
   "metadata": {},
   "outputs": [],
   "source": [
    "# You can sort the values in the dataframe according to number of years with bank\n",
    "bank_client_df.sort_values(by='Years with bank')"
   ]
  },
  {
   "cell_type": "code",
   "execution_count": null,
   "id": "07bc75c6-c83b-4cd3-bed8-df7a89ea88d6",
   "metadata": {},
   "outputs": [],
   "source": [
    "bank_client_df"
   ]
  },
  {
   "cell_type": "code",
   "execution_count": null,
   "id": "62980b6b-46a0-40cf-8e70-111ecc283604",
   "metadata": {},
   "outputs": [],
   "source": [
    "# Note that nothing changed in memory! you have to make sure that inplace is set to True\n",
    "bank_client_df.sort_values(by= 'Years with bank', inplace = True)"
   ]
  },
  {
   "cell_type": "code",
   "execution_count": null,
   "id": "88a50b3b-518c-40a4-b68a-5562b2f93f3b",
   "metadata": {},
   "outputs": [],
   "source": [
    "bank_client_df"
   ]
  },
  {
   "cell_type": "code",
   "execution_count": null,
   "id": "8d7ed1e8-cfe0-4df4-b532-bd5e6967ed88",
   "metadata": {},
   "outputs": [],
   "source": [
    "# Set inplace = True to ensure that change has taken place in memory \n"
   ]
  },
  {
   "cell_type": "code",
   "execution_count": null,
   "id": "14023d34-446a-4380-8eda-86e89f83bfba",
   "metadata": {},
   "outputs": [],
   "source": [
    "# Note that now the change (ordering) took place "
   ]
  },
  {
   "cell_type": "markdown",
   "id": "788c1597-ca54-42b7-bc14-2157b528e3de",
   "metadata": {},
   "source": [
    "## 11: Perform concatenate and Merging with Pandas"
   ]
  },
  {
   "cell_type": "code",
   "execution_count": null,
   "id": "f29d4bbf-a340-484a-89de-3be90d1663e1",
   "metadata": {},
   "outputs": [],
   "source": [
    "# Check this out: https://pandas.pydata.org/pandas-docs/stable/user_guide/merging.html\n"
   ]
  },
  {
   "cell_type": "code",
   "execution_count": null,
   "id": "afa1eb6d-f5cf-41a0-9820-fe3c974e7349",
   "metadata": {},
   "outputs": [],
   "source": [
    "df1 = pd.DataFrame({  'A': ['A0', 'A1', 'A2', 'A3'],\n",
    "                      'B': ['B0', 'B1', 'B2', 'B3'],\n",
    "                      'C': ['C0', 'C1', 'C2', 'C3'],                            \n",
    "                      'D': ['D0', 'D1', 'D2', 'D4']},\n",
    "                    index = [0,1,2,3])"
   ]
  },
  {
   "cell_type": "code",
   "execution_count": null,
   "id": "744d3076-663a-4823-b57b-4602dc1b21f0",
   "metadata": {},
   "outputs": [],
   "source": [
    "df1"
   ]
  },
  {
   "cell_type": "code",
   "execution_count": null,
   "id": "e2bdebbf-3d68-431a-b3f8-af4c8714cdfe",
   "metadata": {},
   "outputs": [],
   "source": [
    "df2 = pd.DataFrame({  'A': ['A4', 'A5', 'A6', 'A7'],\n",
    "                      'B': ['B4', 'B5', 'B6', 'B7'],\n",
    "                      'C': ['C4', 'C5', 'C6', 'C7'],                            \n",
    "                      'D': ['D4', 'D5', 'D6', 'D7']},\n",
    "                      index = [4,5,6,7])"
   ]
  },
  {
   "cell_type": "code",
   "execution_count": null,
   "id": "af1d26ee-2396-4fa8-9e10-b5c2f242f484",
   "metadata": {},
   "outputs": [],
   "source": [
    "df2"
   ]
  },
  {
   "cell_type": "code",
   "execution_count": null,
   "id": "6629328a-b21e-40d8-b13b-0a3112061a53",
   "metadata": {},
   "outputs": [],
   "source": [
    "df3 = pd.DataFrame({  'A': ['A8', 'A9', 'A10', 'A11'],\n",
    "                      'B': ['B8', 'B9', 'B10', 'B11'],\n",
    "                      'C': ['C8', 'C9', 'C10', 'C11'],                            \n",
    "                      'D': ['D8', 'D9', 'D10', 'D11']},\n",
    "                    index = [8,9,10,11])"
   ]
  },
  {
   "cell_type": "code",
   "execution_count": null,
   "id": "9b58bc50-f86b-4cf5-8593-d32c18f3480c",
   "metadata": {},
   "outputs": [],
   "source": [
    "df3"
   ]
  },
  {
   "cell_type": "code",
   "execution_count": null,
   "id": "36f371b7-d7e9-4aac-a049-a82c8ce244ed",
   "metadata": {},
   "outputs": [],
   "source": [
    "pd.concat([df1, df2, df3])"
   ]
  },
  {
   "cell_type": "markdown",
   "id": "d149db20-b468-4839-bcdc-96138c153c87",
   "metadata": {},
   "source": [
    "## PROJECT AND CONCLUDING REMARKS"
   ]
  },
  {
   "cell_type": "markdown",
   "id": "a057c10d-fc74-4ff2-a80c-0c05d6839744",
   "metadata": {},
   "source": [
    "- Define a dataframe named 'Bank_df_1' that contains the first and last names for 5 bank clients with IDs = 1, 2, 3, 4, 5 \n",
    "- Assume that the bank got 5 new clients, define another dataframe named 'Bank_df_2' that contains a new clients with IDs = 6, 7, 8, 9, 10\n",
    "- Let's assume we obtained additional information (Annual Salary) about all our bank customers (10 customers) \n",
    "- Concatenate both 'bank_df_1' and 'bank_df_2' dataframes\n",
    "- Merge client names and their newly added salary information using the 'Bank Client ID'\n",
    "- Let's assume that you became a new client to the bank\n",
    "- Define a new DataFrame that contains your information such as client ID (choose 11), first name, last name, and annual salary.\n",
    "- Add this new dataframe to the original dataframe 'bank_df_all'."
   ]
  },
  {
   "cell_type": "code",
   "execution_count": 159,
   "id": "79d10e5a-5c3a-46c8-8b28-ceadb364d82e",
   "metadata": {},
   "outputs": [],
   "source": [
    "\n",
    "import pandas as pd"
   ]
  },
  {
   "cell_type": "code",
   "execution_count": null,
   "id": "cb7787da-9b87-4568-bd3a-fbd3c9c5dac3",
   "metadata": {},
   "outputs": [],
   "source": [
    "# Let's define a dataframe with a list of bank clients with IDs = 1, 2, 3, 4, 5 \n",
    "raw_data = {'Bank Client ID': ['1', '2', '3', '4', '5'],\n",
    "            'First Name': ['Nancy', 'Alex', 'Shep', 'Max', 'Allen'], \n",
    "            'Last Name': ['Rob', 'Ali', 'George', 'Mitch', 'Steve']}\n",
    "\n",
    "Bank_df_1 = pd.DataFrame(raw_data, columns = ['Bank Client ID', 'First Name', 'Last Name'])\n",
    "Bank_df_1"
   ]
  },
  {
   "cell_type": "code",
   "execution_count": null,
   "id": "f486a341-05ce-4987-a877-c17a0edbe088",
   "metadata": {},
   "outputs": [],
   "source": [
    "\n",
    "# Let's define another dataframe for a separate list of clients (IDs = 6, 7, 8, 9, 10)\n",
    "raw_data = {'Bank Client ID': ['6', '7', '8', '9', '10'],\n",
    "            'First Name': ['Bill', 'Dina', 'Sarah', 'Heather', 'Holly'], \n",
    "            'Last Name': ['Christian', 'Mo', 'Steve', 'Bob', 'Michelle']}\n",
    "Bank_df_2 = pd.DataFrame(raw_data, columns = ['Bank Client ID', 'First Name', 'Last Name'])\n",
    "Bank_df_2"
   ]
  },
  {
   "cell_type": "code",
   "execution_count": null,
   "id": "a3f5e944-707f-40aa-b440-10ddb9e77a41",
   "metadata": {},
   "outputs": [],
   "source": [
    "# Let's assume we obtained additional information (Annual Salary) about our bank customers \n",
    "# Note that data obtained is for all clients with IDs 1 to 10 \n",
    "raw_data = {\n",
    "        'Bank Client ID': ['1', '2', '3', '4', '5', '6', '7', '8', '9', '10'],\n",
    "        'Annual Salary [$/year]': [25000, 35000, 45000, 48000, 49000, 32000, 33000, 34000, 23000, 22000]}\n",
    "bank_df_salary = pd.DataFrame(raw_data, columns = ['Bank Client ID','Annual Salary [$/year]'])\n",
    "bank_df_salary"
   ]
  },
  {
   "cell_type": "code",
   "execution_count": null,
   "id": "092a43ea-dc62-4e72-aa38-4232aa341d52",
   "metadata": {},
   "outputs": [],
   "source": [
    "# Let's concatenate both dataframes #1 and #2\n",
    "# Note that we now have client IDs from 1 to 10\n",
    "bank_df_all = pd.concat([Bank_df_1, Bank_df_2])\n",
    "bank_df_all\n",
    "\n"
   ]
  },
  {
   "cell_type": "code",
   "execution_count": null,
   "id": "1a98a359-1fb9-4d73-8c25-e490185306b1",
   "metadata": {},
   "outputs": [],
   "source": [
    "# Let's merge all data on 'Bank Client ID'\n",
    "bank_df_all = pd.merge(bank_df_all, bank_df_salary, on = 'Bank Client ID')\n",
    "bank_df_all"
   ]
  },
  {
   "cell_type": "code",
   "execution_count": null,
   "id": "0ad9467e-f8bb-42f0-aeb8-a4f03b21f88b",
   "metadata": {},
   "outputs": [],
   "source": [
    "new_client = {'Bank Client ID': ['11'],\n",
    "              'First Name': ['Ry'], \n",
    "              'Last Name': ['Aly'],\n",
    "              'Annual Salary [$/year]' : [1000]}\n",
    "new_client_df = pd.DataFrame(new_client, columns = ['Bank Client ID', 'First Name', 'Last Name', 'Annual Salary [$/year]'])\n",
    "new_client_df"
   ]
  },
  {
   "cell_type": "code",
   "execution_count": null,
   "id": "05e05f44-f54d-4c7f-aeff-94dab657ecb8",
   "metadata": {},
   "outputs": [],
   "source": [
    "new_df = pd.concat([bank_df_all, new_client_df], axis = 0)\n",
    "new_df"
   ]
  },
  {
   "cell_type": "code",
   "execution_count": null,
   "id": "6d2451e0-8cf1-4f1a-bcf1-e5ec203a92c2",
   "metadata": {},
   "outputs": [],
   "source": []
  }
 ],
 "metadata": {
  "kernelspec": {
   "display_name": "Python 3 (ipykernel)",
   "language": "python",
   "name": "python3"
  },
  "language_info": {
   "codemirror_mode": {
    "name": "ipython",
    "version": 3
   },
   "file_extension": ".py",
   "mimetype": "text/x-python",
   "name": "python",
   "nbconvert_exporter": "python",
   "pygments_lexer": "ipython3",
   "version": "3.13.1"
  }
 },
 "nbformat": 4,
 "nbformat_minor": 5
}
