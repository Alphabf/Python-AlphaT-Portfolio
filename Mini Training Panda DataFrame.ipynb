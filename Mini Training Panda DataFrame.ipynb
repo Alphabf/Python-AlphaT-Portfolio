{
 "cells": [
  {
   "cell_type": "markdown",
   "id": "858b358e-3e0b-49df-a842-642aecdf3643",
   "metadata": {},
   "source": [
    "## Mini Training Panda DataFrame"
   ]
  },
  {
   "cell_type": "code",
   "execution_count": 1,
   "id": "bdff754e-3e14-4d69-8c35-ece03f4bb663",
   "metadata": {},
   "outputs": [],
   "source": [
    "### Importing Modules\n",
    "import pandas as pd "
   ]
  },
  {
   "cell_type": "code",
   "execution_count": 2,
   "id": "903ed9da-4c0c-46e7-9629-2dadb80d0d51",
   "metadata": {},
   "outputs": [
    {
     "data": {
      "text/html": [
       "<div>\n",
       "<style scoped>\n",
       "    .dataframe tbody tr th:only-of-type {\n",
       "        vertical-align: middle;\n",
       "    }\n",
       "\n",
       "    .dataframe tbody tr th {\n",
       "        vertical-align: top;\n",
       "    }\n",
       "\n",
       "    .dataframe thead th {\n",
       "        text-align: right;\n",
       "    }\n",
       "</style>\n",
       "<table border=\"1\" class=\"dataframe\">\n",
       "  <thead>\n",
       "    <tr style=\"text-align: right;\">\n",
       "      <th></th>\n",
       "      <th>color</th>\n",
       "      <th>director_name</th>\n",
       "      <th>num_critic_for_reviews</th>\n",
       "      <th>duration</th>\n",
       "      <th>gross</th>\n",
       "      <th>genres</th>\n",
       "      <th>star_name</th>\n",
       "      <th>movie_title</th>\n",
       "      <th>movie_imdb_link</th>\n",
       "      <th>language</th>\n",
       "      <th>country</th>\n",
       "      <th>budget</th>\n",
       "      <th>title_year</th>\n",
       "      <th>imdb_score</th>\n",
       "    </tr>\n",
       "  </thead>\n",
       "  <tbody>\n",
       "    <tr>\n",
       "      <th>0</th>\n",
       "      <td>Color</td>\n",
       "      <td>James Cameron</td>\n",
       "      <td>723.0</td>\n",
       "      <td>178.0</td>\n",
       "      <td>760505847.0</td>\n",
       "      <td>Action|Adventure|Fantasy|Sci-Fi</td>\n",
       "      <td>CCH Pounder</td>\n",
       "      <td>Avatar</td>\n",
       "      <td>http://www.imdb.com/title/tt0499549/?ref_=fn_t...</td>\n",
       "      <td>English</td>\n",
       "      <td>USA</td>\n",
       "      <td>237000000.0</td>\n",
       "      <td>2009.0</td>\n",
       "      <td>7.9</td>\n",
       "    </tr>\n",
       "    <tr>\n",
       "      <th>1</th>\n",
       "      <td>Color</td>\n",
       "      <td>Gore Verbinski</td>\n",
       "      <td>302.0</td>\n",
       "      <td>169.0</td>\n",
       "      <td>309404152.0</td>\n",
       "      <td>Action|Adventure|Fantasy</td>\n",
       "      <td>Johnny Depp</td>\n",
       "      <td>Pirates of the Caribbean: At World's End</td>\n",
       "      <td>http://www.imdb.com/title/tt0449088/?ref_=fn_t...</td>\n",
       "      <td>English</td>\n",
       "      <td>USA</td>\n",
       "      <td>300000000.0</td>\n",
       "      <td>2007.0</td>\n",
       "      <td>7.1</td>\n",
       "    </tr>\n",
       "    <tr>\n",
       "      <th>2</th>\n",
       "      <td>Color</td>\n",
       "      <td>Sam Mendes</td>\n",
       "      <td>602.0</td>\n",
       "      <td>148.0</td>\n",
       "      <td>200074175.0</td>\n",
       "      <td>Action|Adventure|Thriller</td>\n",
       "      <td>Christoph Waltz</td>\n",
       "      <td>Spectre</td>\n",
       "      <td>http://www.imdb.com/title/tt2379713/?ref_=fn_t...</td>\n",
       "      <td>English</td>\n",
       "      <td>UK</td>\n",
       "      <td>245000000.0</td>\n",
       "      <td>2015.0</td>\n",
       "      <td>6.8</td>\n",
       "    </tr>\n",
       "    <tr>\n",
       "      <th>3</th>\n",
       "      <td>Color</td>\n",
       "      <td>Christopher Nolan</td>\n",
       "      <td>813.0</td>\n",
       "      <td>164.0</td>\n",
       "      <td>448130642.0</td>\n",
       "      <td>Action|Thriller</td>\n",
       "      <td>Tom Hardy</td>\n",
       "      <td>The Dark Knight Rises</td>\n",
       "      <td>http://www.imdb.com/title/tt1345836/?ref_=fn_t...</td>\n",
       "      <td>English</td>\n",
       "      <td>USA</td>\n",
       "      <td>250000000.0</td>\n",
       "      <td>2012.0</td>\n",
       "      <td>8.5</td>\n",
       "    </tr>\n",
       "    <tr>\n",
       "      <th>4</th>\n",
       "      <td>NaN</td>\n",
       "      <td>Doug Walker</td>\n",
       "      <td>NaN</td>\n",
       "      <td>NaN</td>\n",
       "      <td>NaN</td>\n",
       "      <td>Documentary</td>\n",
       "      <td>Doug Walker</td>\n",
       "      <td>Star Wars: Episode VII - The Force Awakens</td>\n",
       "      <td>http://www.imdb.com/title/tt5289954/?ref_=fn_t...</td>\n",
       "      <td>NaN</td>\n",
       "      <td>NaN</td>\n",
       "      <td>NaN</td>\n",
       "      <td>NaN</td>\n",
       "      <td>7.1</td>\n",
       "    </tr>\n",
       "  </tbody>\n",
       "</table>\n",
       "</div>"
      ],
      "text/plain": [
       "   color      director_name  num_critic_for_reviews  duration        gross  \\\n",
       "0  Color      James Cameron                   723.0     178.0  760505847.0   \n",
       "1  Color     Gore Verbinski                   302.0     169.0  309404152.0   \n",
       "2  Color         Sam Mendes                   602.0     148.0  200074175.0   \n",
       "3  Color  Christopher Nolan                   813.0     164.0  448130642.0   \n",
       "4    NaN        Doug Walker                     NaN       NaN          NaN   \n",
       "\n",
       "                            genres        star_name  \\\n",
       "0  Action|Adventure|Fantasy|Sci-Fi      CCH Pounder   \n",
       "1         Action|Adventure|Fantasy      Johnny Depp   \n",
       "2        Action|Adventure|Thriller  Christoph Waltz   \n",
       "3                  Action|Thriller        Tom Hardy   \n",
       "4                      Documentary      Doug Walker   \n",
       "\n",
       "                                  movie_title  \\\n",
       "0                                      Avatar   \n",
       "1    Pirates of the Caribbean: At World's End   \n",
       "2                                     Spectre   \n",
       "3                       The Dark Knight Rises   \n",
       "4  Star Wars: Episode VII - The Force Awakens   \n",
       "\n",
       "                                     movie_imdb_link language country  \\\n",
       "0  http://www.imdb.com/title/tt0499549/?ref_=fn_t...  English     USA   \n",
       "1  http://www.imdb.com/title/tt0449088/?ref_=fn_t...  English     USA   \n",
       "2  http://www.imdb.com/title/tt2379713/?ref_=fn_t...  English      UK   \n",
       "3  http://www.imdb.com/title/tt1345836/?ref_=fn_t...  English     USA   \n",
       "4  http://www.imdb.com/title/tt5289954/?ref_=fn_t...      NaN     NaN   \n",
       "\n",
       "        budget  title_year  imdb_score  \n",
       "0  237000000.0      2009.0         7.9  \n",
       "1  300000000.0      2007.0         7.1  \n",
       "2  245000000.0      2015.0         6.8  \n",
       "3  250000000.0      2012.0         8.5  \n",
       "4          NaN         NaN         7.1  "
      ]
     },
     "execution_count": 2,
     "metadata": {},
     "output_type": "execute_result"
    }
   ],
   "source": [
    "data = pd.read_json(\"movies_dataset.json\")\n",
    "data.head() # first 5 row\n",
    "# mydata.tail()   # last 5 row\n",
    "# mydata.tail(2)   # last 2 row"
   ]
  },
  {
   "cell_type": "markdown",
   "id": "f2f5b7e2-0fbc-4512-88a4-2e3f075664de",
   "metadata": {},
   "source": [
    "**Check the dataframe shape (#rows and #columns)**\n"
   ]
  },
  {
   "cell_type": "code",
   "execution_count": 3,
   "id": "ef561525-e53d-4cc3-8161-54af3a85e2e5",
   "metadata": {},
   "outputs": [
    {
     "data": {
      "text/plain": [
       "(5043, 14)"
      ]
     },
     "execution_count": 3,
     "metadata": {},
     "output_type": "execute_result"
    }
   ],
   "source": [
    "data.shape  # Number of variable and number of row"
   ]
  },
  {
   "cell_type": "markdown",
   "id": "beb9b1cc-5ae5-410a-b7a1-da1e1907cc0e",
   "metadata": {},
   "source": [
    "**Let's check the data types of the columns**"
   ]
  },
  {
   "cell_type": "code",
   "execution_count": 4,
   "id": "2ff9ea49-4a0d-4ec5-93b9-5c0420eb653c",
   "metadata": {},
   "outputs": [
    {
     "data": {
      "text/plain": [
       "color                      object\n",
       "director_name              object\n",
       "num_critic_for_reviews    float64\n",
       "duration                  float64\n",
       "gross                     float64\n",
       "genres                     object\n",
       "star_name                  object\n",
       "movie_title                object\n",
       "movie_imdb_link            object\n",
       "language                   object\n",
       "country                    object\n",
       "budget                    float64\n",
       "title_year                float64\n",
       "imdb_score                float64\n",
       "dtype: object"
      ]
     },
     "execution_count": 4,
     "metadata": {},
     "output_type": "execute_result"
    }
   ],
   "source": [
    "data.dtypes # Check the types of columns"
   ]
  },
  {
   "cell_type": "markdown",
   "id": "619238a3-1275-4b5d-bbd3-fc6811c0e963",
   "metadata": {},
   "source": [
    "**Column Selection**"
   ]
  },
  {
   "cell_type": "code",
   "execution_count": 5,
   "id": "1bfe16d6-2c1f-4cc9-a4b4-33efecc0f18f",
   "metadata": {},
   "outputs": [
    {
     "data": {
      "text/plain": [
       "0       237000000.0\n",
       "1       300000000.0\n",
       "2       245000000.0\n",
       "3       250000000.0\n",
       "4               NaN\n",
       "           ...     \n",
       "5038            NaN\n",
       "5039            NaN\n",
       "5040         1400.0\n",
       "5041            NaN\n",
       "5042         1100.0\n",
       "Name: budget, Length: 5043, dtype: float64"
      ]
     },
     "execution_count": 5,
     "metadata": {},
     "output_type": "execute_result"
    }
   ],
   "source": [
    "data['budget']\n",
    "# data.color"
   ]
  },
  {
   "cell_type": "markdown",
   "id": "e98a38a3-2e4d-4071-a41c-e342be3ea8cb",
   "metadata": {},
   "source": [
    "## Data Preparation\n",
    "Remove some columns:    \n",
    "   \n",
    "   - `movie_imdb_link`\n",
    "   - `num_critic_for_reviews`\n",
    "   - `genre`"
   ]
  },
  {
   "cell_type": "code",
   "execution_count": 6,
   "id": "395ad5fe-280d-4113-a6eb-b97017cdbc89",
   "metadata": {},
   "outputs": [
    {
     "data": {
      "text/html": [
       "<div>\n",
       "<style scoped>\n",
       "    .dataframe tbody tr th:only-of-type {\n",
       "        vertical-align: middle;\n",
       "    }\n",
       "\n",
       "    .dataframe tbody tr th {\n",
       "        vertical-align: top;\n",
       "    }\n",
       "\n",
       "    .dataframe thead th {\n",
       "        text-align: right;\n",
       "    }\n",
       "</style>\n",
       "<table border=\"1\" class=\"dataframe\">\n",
       "  <thead>\n",
       "    <tr style=\"text-align: right;\">\n",
       "      <th></th>\n",
       "      <th>color</th>\n",
       "      <th>director_name</th>\n",
       "      <th>num_critic_for_reviews</th>\n",
       "      <th>duration</th>\n",
       "      <th>gross</th>\n",
       "      <th>genres</th>\n",
       "      <th>star_name</th>\n",
       "      <th>movie_title</th>\n",
       "      <th>language</th>\n",
       "      <th>country</th>\n",
       "      <th>budget</th>\n",
       "      <th>title_year</th>\n",
       "      <th>imdb_score</th>\n",
       "    </tr>\n",
       "  </thead>\n",
       "  <tbody>\n",
       "    <tr>\n",
       "      <th>0</th>\n",
       "      <td>Color</td>\n",
       "      <td>James Cameron</td>\n",
       "      <td>723.0</td>\n",
       "      <td>178.0</td>\n",
       "      <td>760505847.0</td>\n",
       "      <td>Action|Adventure|Fantasy|Sci-Fi</td>\n",
       "      <td>CCH Pounder</td>\n",
       "      <td>Avatar</td>\n",
       "      <td>English</td>\n",
       "      <td>USA</td>\n",
       "      <td>237000000.0</td>\n",
       "      <td>2009.0</td>\n",
       "      <td>7.9</td>\n",
       "    </tr>\n",
       "    <tr>\n",
       "      <th>1</th>\n",
       "      <td>Color</td>\n",
       "      <td>Gore Verbinski</td>\n",
       "      <td>302.0</td>\n",
       "      <td>169.0</td>\n",
       "      <td>309404152.0</td>\n",
       "      <td>Action|Adventure|Fantasy</td>\n",
       "      <td>Johnny Depp</td>\n",
       "      <td>Pirates of the Caribbean: At World's End</td>\n",
       "      <td>English</td>\n",
       "      <td>USA</td>\n",
       "      <td>300000000.0</td>\n",
       "      <td>2007.0</td>\n",
       "      <td>7.1</td>\n",
       "    </tr>\n",
       "    <tr>\n",
       "      <th>2</th>\n",
       "      <td>Color</td>\n",
       "      <td>Sam Mendes</td>\n",
       "      <td>602.0</td>\n",
       "      <td>148.0</td>\n",
       "      <td>200074175.0</td>\n",
       "      <td>Action|Adventure|Thriller</td>\n",
       "      <td>Christoph Waltz</td>\n",
       "      <td>Spectre</td>\n",
       "      <td>English</td>\n",
       "      <td>UK</td>\n",
       "      <td>245000000.0</td>\n",
       "      <td>2015.0</td>\n",
       "      <td>6.8</td>\n",
       "    </tr>\n",
       "    <tr>\n",
       "      <th>3</th>\n",
       "      <td>Color</td>\n",
       "      <td>Christopher Nolan</td>\n",
       "      <td>813.0</td>\n",
       "      <td>164.0</td>\n",
       "      <td>448130642.0</td>\n",
       "      <td>Action|Thriller</td>\n",
       "      <td>Tom Hardy</td>\n",
       "      <td>The Dark Knight Rises</td>\n",
       "      <td>English</td>\n",
       "      <td>USA</td>\n",
       "      <td>250000000.0</td>\n",
       "      <td>2012.0</td>\n",
       "      <td>8.5</td>\n",
       "    </tr>\n",
       "    <tr>\n",
       "      <th>4</th>\n",
       "      <td>NaN</td>\n",
       "      <td>Doug Walker</td>\n",
       "      <td>NaN</td>\n",
       "      <td>NaN</td>\n",
       "      <td>NaN</td>\n",
       "      <td>Documentary</td>\n",
       "      <td>Doug Walker</td>\n",
       "      <td>Star Wars: Episode VII - The Force Awakens</td>\n",
       "      <td>NaN</td>\n",
       "      <td>NaN</td>\n",
       "      <td>NaN</td>\n",
       "      <td>NaN</td>\n",
       "      <td>7.1</td>\n",
       "    </tr>\n",
       "  </tbody>\n",
       "</table>\n",
       "</div>"
      ],
      "text/plain": [
       "   color      director_name  num_critic_for_reviews  duration        gross  \\\n",
       "0  Color      James Cameron                   723.0     178.0  760505847.0   \n",
       "1  Color     Gore Verbinski                   302.0     169.0  309404152.0   \n",
       "2  Color         Sam Mendes                   602.0     148.0  200074175.0   \n",
       "3  Color  Christopher Nolan                   813.0     164.0  448130642.0   \n",
       "4    NaN        Doug Walker                     NaN       NaN          NaN   \n",
       "\n",
       "                            genres        star_name  \\\n",
       "0  Action|Adventure|Fantasy|Sci-Fi      CCH Pounder   \n",
       "1         Action|Adventure|Fantasy      Johnny Depp   \n",
       "2        Action|Adventure|Thriller  Christoph Waltz   \n",
       "3                  Action|Thriller        Tom Hardy   \n",
       "4                      Documentary      Doug Walker   \n",
       "\n",
       "                                  movie_title language country       budget  \\\n",
       "0                                      Avatar  English     USA  237000000.0   \n",
       "1    Pirates of the Caribbean: At World's End  English     USA  300000000.0   \n",
       "2                                     Spectre  English      UK  245000000.0   \n",
       "3                       The Dark Knight Rises  English     USA  250000000.0   \n",
       "4  Star Wars: Episode VII - The Force Awakens      NaN     NaN          NaN   \n",
       "\n",
       "   title_year  imdb_score  \n",
       "0      2009.0         7.9  \n",
       "1      2007.0         7.1  \n",
       "2      2015.0         6.8  \n",
       "3      2012.0         8.5  \n",
       "4         NaN         7.1  "
      ]
     },
     "execution_count": 6,
     "metadata": {},
     "output_type": "execute_result"
    }
   ],
   "source": [
    "#data.drop(axis=1, columns=[\"movie_imdb_link\"]) # press ship+tab for details of drop method\n",
    "data.drop(axis=1, columns=[\"movie_imdb_link\"], inplace=True) # press ship+tab for details of drop method\n",
    "\n",
    "data.head()"
   ]
  },
  {
   "cell_type": "markdown",
   "id": "1500d005-07a3-4e39-9347-0b4040490520",
   "metadata": {},
   "source": [
    "**Exercise 1: Remove the rest of the columns** "
   ]
  },
  {
   "cell_type": "code",
   "execution_count": 7,
   "id": "fbde08bc-3a65-468a-a066-f76faba8f8f3",
   "metadata": {},
   "outputs": [
    {
     "data": {
      "text/plain": [
       "<bound method NDFrame.head of       color      director_name  duration        gross        star_name  \\\n",
       "0     Color      James Cameron     178.0  760505847.0      CCH Pounder   \n",
       "1     Color     Gore Verbinski     169.0  309404152.0      Johnny Depp   \n",
       "2     Color         Sam Mendes     148.0  200074175.0  Christoph Waltz   \n",
       "3     Color  Christopher Nolan     164.0  448130642.0        Tom Hardy   \n",
       "4       NaN        Doug Walker       NaN          NaN      Doug Walker   \n",
       "...     ...                ...       ...          ...              ...   \n",
       "5038  Color        Scott Smith      87.0          NaN      Eric Mabius   \n",
       "5039  Color                NaN      43.0          NaN      Natalie Zea   \n",
       "5040  Color   Benjamin Roberds      76.0          NaN      Eva Boehnke   \n",
       "5041  Color        Daniel Hsia     100.0      10443.0        Alan Ruck   \n",
       "5042  Color           Jon Gunn      90.0      85222.0      John August   \n",
       "\n",
       "                                     movie_title language country  \\\n",
       "0                                         Avatar  English     USA   \n",
       "1       Pirates of the Caribbean: At World's End  English     USA   \n",
       "2                                        Spectre  English      UK   \n",
       "3                          The Dark Knight Rises  English     USA   \n",
       "4     Star Wars: Episode VII - The Force Awakens      NaN     NaN   \n",
       "...                                          ...      ...     ...   \n",
       "5038                     Signed Sealed Delivered  English  Canada   \n",
       "5039                               The Following  English     USA   \n",
       "5040                        A Plague So Pleasant  English     USA   \n",
       "5041                            Shanghai Calling  English     USA   \n",
       "5042                           My Date with Drew  English     USA   \n",
       "\n",
       "           budget  title_year  imdb_score  \n",
       "0     237000000.0      2009.0         7.9  \n",
       "1     300000000.0      2007.0         7.1  \n",
       "2     245000000.0      2015.0         6.8  \n",
       "3     250000000.0      2012.0         8.5  \n",
       "4             NaN         NaN         7.1  \n",
       "...           ...         ...         ...  \n",
       "5038          NaN      2013.0         7.7  \n",
       "5039          NaN         NaN         7.5  \n",
       "5040       1400.0      2013.0         6.3  \n",
       "5041          NaN      2012.0         6.3  \n",
       "5042       1100.0      2004.0         6.6  \n",
       "\n",
       "[5043 rows x 11 columns]>"
      ]
     },
     "execution_count": 7,
     "metadata": {},
     "output_type": "execute_result"
    }
   ],
   "source": [
    "data.drop(axis=1, columns=[\"num_critic_for_reviews\", \"genres\"], inplace=True)\n",
    "data.head"
   ]
  },
  {
   "cell_type": "markdown",
   "id": "324f2f67-923b-476a-8b45-5300485cefd6",
   "metadata": {},
   "source": [
    "**Let's check the shape again**"
   ]
  },
  {
   "cell_type": "code",
   "execution_count": 8,
   "id": "561be8cf-910c-4bad-a02e-2008c435d5d2",
   "metadata": {},
   "outputs": [
    {
     "data": {
      "text/plain": [
       "(5043, 11)"
      ]
     },
     "execution_count": 8,
     "metadata": {},
     "output_type": "execute_result"
    }
   ],
   "source": [
    "data.shape"
   ]
  },
  {
   "cell_type": "markdown",
   "id": "7f5be8de-e6bc-450d-b2f1-f7624ba5435d",
   "metadata": {},
   "source": [
    "**Let's convert the dtype of `title_year` column to integer**"
   ]
  },
  {
   "cell_type": "code",
   "execution_count": 9,
   "id": "ddfa3840-2ca2-488a-99aa-6a6eba71f76f",
   "metadata": {},
   "outputs": [
    {
     "data": {
      "text/html": [
       "<div>\n",
       "<style scoped>\n",
       "    .dataframe tbody tr th:only-of-type {\n",
       "        vertical-align: middle;\n",
       "    }\n",
       "\n",
       "    .dataframe tbody tr th {\n",
       "        vertical-align: top;\n",
       "    }\n",
       "\n",
       "    .dataframe thead th {\n",
       "        text-align: right;\n",
       "    }\n",
       "</style>\n",
       "<table border=\"1\" class=\"dataframe\">\n",
       "  <thead>\n",
       "    <tr style=\"text-align: right;\">\n",
       "      <th></th>\n",
       "      <th>color</th>\n",
       "      <th>director_name</th>\n",
       "      <th>duration</th>\n",
       "      <th>gross</th>\n",
       "      <th>star_name</th>\n",
       "      <th>movie_title</th>\n",
       "      <th>language</th>\n",
       "      <th>country</th>\n",
       "      <th>budget</th>\n",
       "      <th>title_year</th>\n",
       "      <th>imdb_score</th>\n",
       "    </tr>\n",
       "  </thead>\n",
       "  <tbody>\n",
       "    <tr>\n",
       "      <th>0</th>\n",
       "      <td>Color</td>\n",
       "      <td>James Cameron</td>\n",
       "      <td>178.0</td>\n",
       "      <td>760505847.0</td>\n",
       "      <td>CCH Pounder</td>\n",
       "      <td>Avatar</td>\n",
       "      <td>English</td>\n",
       "      <td>USA</td>\n",
       "      <td>237000000.0</td>\n",
       "      <td>2009</td>\n",
       "      <td>7.9</td>\n",
       "    </tr>\n",
       "    <tr>\n",
       "      <th>1</th>\n",
       "      <td>Color</td>\n",
       "      <td>Gore Verbinski</td>\n",
       "      <td>169.0</td>\n",
       "      <td>309404152.0</td>\n",
       "      <td>Johnny Depp</td>\n",
       "      <td>Pirates of the Caribbean: At World's End</td>\n",
       "      <td>English</td>\n",
       "      <td>USA</td>\n",
       "      <td>300000000.0</td>\n",
       "      <td>2007</td>\n",
       "      <td>7.1</td>\n",
       "    </tr>\n",
       "    <tr>\n",
       "      <th>2</th>\n",
       "      <td>Color</td>\n",
       "      <td>Sam Mendes</td>\n",
       "      <td>148.0</td>\n",
       "      <td>200074175.0</td>\n",
       "      <td>Christoph Waltz</td>\n",
       "      <td>Spectre</td>\n",
       "      <td>English</td>\n",
       "      <td>UK</td>\n",
       "      <td>245000000.0</td>\n",
       "      <td>2015</td>\n",
       "      <td>6.8</td>\n",
       "    </tr>\n",
       "    <tr>\n",
       "      <th>3</th>\n",
       "      <td>Color</td>\n",
       "      <td>Christopher Nolan</td>\n",
       "      <td>164.0</td>\n",
       "      <td>448130642.0</td>\n",
       "      <td>Tom Hardy</td>\n",
       "      <td>The Dark Knight Rises</td>\n",
       "      <td>English</td>\n",
       "      <td>USA</td>\n",
       "      <td>250000000.0</td>\n",
       "      <td>2012</td>\n",
       "      <td>8.5</td>\n",
       "    </tr>\n",
       "    <tr>\n",
       "      <th>4</th>\n",
       "      <td>NaN</td>\n",
       "      <td>Doug Walker</td>\n",
       "      <td>NaN</td>\n",
       "      <td>NaN</td>\n",
       "      <td>Doug Walker</td>\n",
       "      <td>Star Wars: Episode VII - The Force Awakens</td>\n",
       "      <td>NaN</td>\n",
       "      <td>NaN</td>\n",
       "      <td>NaN</td>\n",
       "      <td>&lt;NA&gt;</td>\n",
       "      <td>7.1</td>\n",
       "    </tr>\n",
       "  </tbody>\n",
       "</table>\n",
       "</div>"
      ],
      "text/plain": [
       "   color      director_name  duration        gross        star_name  \\\n",
       "0  Color      James Cameron     178.0  760505847.0      CCH Pounder   \n",
       "1  Color     Gore Verbinski     169.0  309404152.0      Johnny Depp   \n",
       "2  Color         Sam Mendes     148.0  200074175.0  Christoph Waltz   \n",
       "3  Color  Christopher Nolan     164.0  448130642.0        Tom Hardy   \n",
       "4    NaN        Doug Walker       NaN          NaN      Doug Walker   \n",
       "\n",
       "                                  movie_title language country       budget  \\\n",
       "0                                      Avatar  English     USA  237000000.0   \n",
       "1    Pirates of the Caribbean: At World's End  English     USA  300000000.0   \n",
       "2                                     Spectre  English      UK  245000000.0   \n",
       "3                       The Dark Knight Rises  English     USA  250000000.0   \n",
       "4  Star Wars: Episode VII - The Force Awakens      NaN     NaN          NaN   \n",
       "\n",
       "   title_year  imdb_score  \n",
       "0        2009         7.9  \n",
       "1        2007         7.1  \n",
       "2        2015         6.8  \n",
       "3        2012         8.5  \n",
       "4        <NA>         7.1  "
      ]
     },
     "execution_count": 9,
     "metadata": {},
     "output_type": "execute_result"
    }
   ],
   "source": [
    "data.title_year=data.title_year.astype(\"Int64\")\n",
    "data.head()"
   ]
  },
  {
   "cell_type": "markdown",
   "id": "b47ede94-7a26-4aaa-8ab7-66950937d9f2",
   "metadata": {},
   "source": [
    "**Let's check the dataframe again**"
   ]
  },
  {
   "cell_type": "code",
   "execution_count": 10,
   "id": "c4a4dfba-2d56-4bd1-83d4-6a895b5781a2",
   "metadata": {},
   "outputs": [
    {
     "data": {
      "text/html": [
       "<div>\n",
       "<style scoped>\n",
       "    .dataframe tbody tr th:only-of-type {\n",
       "        vertical-align: middle;\n",
       "    }\n",
       "\n",
       "    .dataframe tbody tr th {\n",
       "        vertical-align: top;\n",
       "    }\n",
       "\n",
       "    .dataframe thead th {\n",
       "        text-align: right;\n",
       "    }\n",
       "</style>\n",
       "<table border=\"1\" class=\"dataframe\">\n",
       "  <thead>\n",
       "    <tr style=\"text-align: right;\">\n",
       "      <th></th>\n",
       "      <th>color</th>\n",
       "      <th>director_name</th>\n",
       "      <th>duration</th>\n",
       "      <th>gross</th>\n",
       "      <th>star_name</th>\n",
       "      <th>movie_title</th>\n",
       "      <th>language</th>\n",
       "      <th>country</th>\n",
       "      <th>budget</th>\n",
       "      <th>title_year</th>\n",
       "      <th>imdb_score</th>\n",
       "    </tr>\n",
       "  </thead>\n",
       "  <tbody>\n",
       "    <tr>\n",
       "      <th>0</th>\n",
       "      <td>Color</td>\n",
       "      <td>James Cameron</td>\n",
       "      <td>178.0</td>\n",
       "      <td>760505847.0</td>\n",
       "      <td>CCH Pounder</td>\n",
       "      <td>Avatar</td>\n",
       "      <td>English</td>\n",
       "      <td>USA</td>\n",
       "      <td>237000000.0</td>\n",
       "      <td>2009</td>\n",
       "      <td>7.9</td>\n",
       "    </tr>\n",
       "    <tr>\n",
       "      <th>1</th>\n",
       "      <td>Color</td>\n",
       "      <td>Gore Verbinski</td>\n",
       "      <td>169.0</td>\n",
       "      <td>309404152.0</td>\n",
       "      <td>Johnny Depp</td>\n",
       "      <td>Pirates of the Caribbean: At World's End</td>\n",
       "      <td>English</td>\n",
       "      <td>USA</td>\n",
       "      <td>300000000.0</td>\n",
       "      <td>2007</td>\n",
       "      <td>7.1</td>\n",
       "    </tr>\n",
       "    <tr>\n",
       "      <th>2</th>\n",
       "      <td>Color</td>\n",
       "      <td>Sam Mendes</td>\n",
       "      <td>148.0</td>\n",
       "      <td>200074175.0</td>\n",
       "      <td>Christoph Waltz</td>\n",
       "      <td>Spectre</td>\n",
       "      <td>English</td>\n",
       "      <td>UK</td>\n",
       "      <td>245000000.0</td>\n",
       "      <td>2015</td>\n",
       "      <td>6.8</td>\n",
       "    </tr>\n",
       "    <tr>\n",
       "      <th>3</th>\n",
       "      <td>Color</td>\n",
       "      <td>Christopher Nolan</td>\n",
       "      <td>164.0</td>\n",
       "      <td>448130642.0</td>\n",
       "      <td>Tom Hardy</td>\n",
       "      <td>The Dark Knight Rises</td>\n",
       "      <td>English</td>\n",
       "      <td>USA</td>\n",
       "      <td>250000000.0</td>\n",
       "      <td>2012</td>\n",
       "      <td>8.5</td>\n",
       "    </tr>\n",
       "    <tr>\n",
       "      <th>4</th>\n",
       "      <td>NaN</td>\n",
       "      <td>Doug Walker</td>\n",
       "      <td>NaN</td>\n",
       "      <td>NaN</td>\n",
       "      <td>Doug Walker</td>\n",
       "      <td>Star Wars: Episode VII - The Force Awakens</td>\n",
       "      <td>NaN</td>\n",
       "      <td>NaN</td>\n",
       "      <td>NaN</td>\n",
       "      <td>&lt;NA&gt;</td>\n",
       "      <td>7.1</td>\n",
       "    </tr>\n",
       "    <tr>\n",
       "      <th>...</th>\n",
       "      <td>...</td>\n",
       "      <td>...</td>\n",
       "      <td>...</td>\n",
       "      <td>...</td>\n",
       "      <td>...</td>\n",
       "      <td>...</td>\n",
       "      <td>...</td>\n",
       "      <td>...</td>\n",
       "      <td>...</td>\n",
       "      <td>...</td>\n",
       "      <td>...</td>\n",
       "    </tr>\n",
       "    <tr>\n",
       "      <th>5038</th>\n",
       "      <td>Color</td>\n",
       "      <td>Scott Smith</td>\n",
       "      <td>87.0</td>\n",
       "      <td>NaN</td>\n",
       "      <td>Eric Mabius</td>\n",
       "      <td>Signed Sealed Delivered</td>\n",
       "      <td>English</td>\n",
       "      <td>Canada</td>\n",
       "      <td>NaN</td>\n",
       "      <td>2013</td>\n",
       "      <td>7.7</td>\n",
       "    </tr>\n",
       "    <tr>\n",
       "      <th>5039</th>\n",
       "      <td>Color</td>\n",
       "      <td>NaN</td>\n",
       "      <td>43.0</td>\n",
       "      <td>NaN</td>\n",
       "      <td>Natalie Zea</td>\n",
       "      <td>The Following</td>\n",
       "      <td>English</td>\n",
       "      <td>USA</td>\n",
       "      <td>NaN</td>\n",
       "      <td>&lt;NA&gt;</td>\n",
       "      <td>7.5</td>\n",
       "    </tr>\n",
       "    <tr>\n",
       "      <th>5040</th>\n",
       "      <td>Color</td>\n",
       "      <td>Benjamin Roberds</td>\n",
       "      <td>76.0</td>\n",
       "      <td>NaN</td>\n",
       "      <td>Eva Boehnke</td>\n",
       "      <td>A Plague So Pleasant</td>\n",
       "      <td>English</td>\n",
       "      <td>USA</td>\n",
       "      <td>1400.0</td>\n",
       "      <td>2013</td>\n",
       "      <td>6.3</td>\n",
       "    </tr>\n",
       "    <tr>\n",
       "      <th>5041</th>\n",
       "      <td>Color</td>\n",
       "      <td>Daniel Hsia</td>\n",
       "      <td>100.0</td>\n",
       "      <td>10443.0</td>\n",
       "      <td>Alan Ruck</td>\n",
       "      <td>Shanghai Calling</td>\n",
       "      <td>English</td>\n",
       "      <td>USA</td>\n",
       "      <td>NaN</td>\n",
       "      <td>2012</td>\n",
       "      <td>6.3</td>\n",
       "    </tr>\n",
       "    <tr>\n",
       "      <th>5042</th>\n",
       "      <td>Color</td>\n",
       "      <td>Jon Gunn</td>\n",
       "      <td>90.0</td>\n",
       "      <td>85222.0</td>\n",
       "      <td>John August</td>\n",
       "      <td>My Date with Drew</td>\n",
       "      <td>English</td>\n",
       "      <td>USA</td>\n",
       "      <td>1100.0</td>\n",
       "      <td>2004</td>\n",
       "      <td>6.6</td>\n",
       "    </tr>\n",
       "  </tbody>\n",
       "</table>\n",
       "<p>5043 rows × 11 columns</p>\n",
       "</div>"
      ],
      "text/plain": [
       "      color      director_name  duration        gross        star_name  \\\n",
       "0     Color      James Cameron     178.0  760505847.0      CCH Pounder   \n",
       "1     Color     Gore Verbinski     169.0  309404152.0      Johnny Depp   \n",
       "2     Color         Sam Mendes     148.0  200074175.0  Christoph Waltz   \n",
       "3     Color  Christopher Nolan     164.0  448130642.0        Tom Hardy   \n",
       "4       NaN        Doug Walker       NaN          NaN      Doug Walker   \n",
       "...     ...                ...       ...          ...              ...   \n",
       "5038  Color        Scott Smith      87.0          NaN      Eric Mabius   \n",
       "5039  Color                NaN      43.0          NaN      Natalie Zea   \n",
       "5040  Color   Benjamin Roberds      76.0          NaN      Eva Boehnke   \n",
       "5041  Color        Daniel Hsia     100.0      10443.0        Alan Ruck   \n",
       "5042  Color           Jon Gunn      90.0      85222.0      John August   \n",
       "\n",
       "                                     movie_title language country  \\\n",
       "0                                         Avatar  English     USA   \n",
       "1       Pirates of the Caribbean: At World's End  English     USA   \n",
       "2                                        Spectre  English      UK   \n",
       "3                          The Dark Knight Rises  English     USA   \n",
       "4     Star Wars: Episode VII - The Force Awakens      NaN     NaN   \n",
       "...                                          ...      ...     ...   \n",
       "5038                     Signed Sealed Delivered  English  Canada   \n",
       "5039                               The Following  English     USA   \n",
       "5040                        A Plague So Pleasant  English     USA   \n",
       "5041                            Shanghai Calling  English     USA   \n",
       "5042                           My Date with Drew  English     USA   \n",
       "\n",
       "           budget  title_year  imdb_score  \n",
       "0     237000000.0        2009         7.9  \n",
       "1     300000000.0        2007         7.1  \n",
       "2     245000000.0        2015         6.8  \n",
       "3     250000000.0        2012         8.5  \n",
       "4             NaN        <NA>         7.1  \n",
       "...           ...         ...         ...  \n",
       "5038          NaN        2013         7.7  \n",
       "5039          NaN        <NA>         7.5  \n",
       "5040       1400.0        2013         6.3  \n",
       "5041          NaN        2012         6.3  \n",
       "5042       1100.0        2004         6.6  \n",
       "\n",
       "[5043 rows x 11 columns]"
      ]
     },
     "execution_count": 10,
     "metadata": {},
     "output_type": "execute_result"
    }
   ],
   "source": [
    "data"
   ]
  },
  {
   "cell_type": "markdown",
   "id": "2d0e2b26-038f-4105-8273-6333654bac87",
   "metadata": {},
   "source": [
    "**Renaming some columns:**\n",
    "- changing `gross` to `movie_income`"
   ]
  },
  {
   "cell_type": "code",
   "execution_count": 11,
   "id": "301446bc-22c1-4ea9-93db-8d510ebc6d20",
   "metadata": {},
   "outputs": [
    {
     "data": {
      "text/html": [
       "<div>\n",
       "<style scoped>\n",
       "    .dataframe tbody tr th:only-of-type {\n",
       "        vertical-align: middle;\n",
       "    }\n",
       "\n",
       "    .dataframe tbody tr th {\n",
       "        vertical-align: top;\n",
       "    }\n",
       "\n",
       "    .dataframe thead th {\n",
       "        text-align: right;\n",
       "    }\n",
       "</style>\n",
       "<table border=\"1\" class=\"dataframe\">\n",
       "  <thead>\n",
       "    <tr style=\"text-align: right;\">\n",
       "      <th></th>\n",
       "      <th>color</th>\n",
       "      <th>director_name</th>\n",
       "      <th>duration</th>\n",
       "      <th>movie_income</th>\n",
       "      <th>star_name</th>\n",
       "      <th>movie_title</th>\n",
       "      <th>Language</th>\n",
       "      <th>country</th>\n",
       "      <th>budget</th>\n",
       "      <th>title_year</th>\n",
       "      <th>imdb_score</th>\n",
       "    </tr>\n",
       "  </thead>\n",
       "  <tbody>\n",
       "    <tr>\n",
       "      <th>0</th>\n",
       "      <td>Color</td>\n",
       "      <td>James Cameron</td>\n",
       "      <td>178.0</td>\n",
       "      <td>760505847.0</td>\n",
       "      <td>CCH Pounder</td>\n",
       "      <td>Avatar</td>\n",
       "      <td>English</td>\n",
       "      <td>USA</td>\n",
       "      <td>237000000.0</td>\n",
       "      <td>2009</td>\n",
       "      <td>7.9</td>\n",
       "    </tr>\n",
       "    <tr>\n",
       "      <th>1</th>\n",
       "      <td>Color</td>\n",
       "      <td>Gore Verbinski</td>\n",
       "      <td>169.0</td>\n",
       "      <td>309404152.0</td>\n",
       "      <td>Johnny Depp</td>\n",
       "      <td>Pirates of the Caribbean: At World's End</td>\n",
       "      <td>English</td>\n",
       "      <td>USA</td>\n",
       "      <td>300000000.0</td>\n",
       "      <td>2007</td>\n",
       "      <td>7.1</td>\n",
       "    </tr>\n",
       "  </tbody>\n",
       "</table>\n",
       "</div>"
      ],
      "text/plain": [
       "   color   director_name  duration  movie_income    star_name  \\\n",
       "0  Color   James Cameron     178.0   760505847.0  CCH Pounder   \n",
       "1  Color  Gore Verbinski     169.0   309404152.0  Johnny Depp   \n",
       "\n",
       "                                movie_title Language country       budget  \\\n",
       "0                                    Avatar  English     USA  237000000.0   \n",
       "1  Pirates of the Caribbean: At World's End  English     USA  300000000.0   \n",
       "\n",
       "   title_year  imdb_score  \n",
       "0        2009         7.9  \n",
       "1        2007         7.1  "
      ]
     },
     "execution_count": 11,
     "metadata": {},
     "output_type": "execute_result"
    }
   ],
   "source": [
    "rename_dict ={\"gross\" : \"movie_income\", \"language\":\"Language\"}\n",
    "data.rename(columns = rename_dict, inplace=True)\n",
    "data.head(2)"
   ]
  },
  {
   "cell_type": "markdown",
   "id": "4a5625cb-a949-4738-a9e7-15647f2f0ce4",
   "metadata": {},
   "source": [
    "**Exercise 1: Rename the `budget` column to `movie_budget`**"
   ]
  },
  {
   "cell_type": "code",
   "execution_count": 12,
   "id": "c064938f-958f-4e56-99c5-82d35e8790d9",
   "metadata": {},
   "outputs": [
    {
     "data": {
      "text/html": [
       "<div>\n",
       "<style scoped>\n",
       "    .dataframe tbody tr th:only-of-type {\n",
       "        vertical-align: middle;\n",
       "    }\n",
       "\n",
       "    .dataframe tbody tr th {\n",
       "        vertical-align: top;\n",
       "    }\n",
       "\n",
       "    .dataframe thead th {\n",
       "        text-align: right;\n",
       "    }\n",
       "</style>\n",
       "<table border=\"1\" class=\"dataframe\">\n",
       "  <thead>\n",
       "    <tr style=\"text-align: right;\">\n",
       "      <th></th>\n",
       "      <th>color</th>\n",
       "      <th>director_name</th>\n",
       "      <th>duration</th>\n",
       "      <th>movie_income</th>\n",
       "      <th>star_name</th>\n",
       "      <th>movie_title</th>\n",
       "      <th>Language</th>\n",
       "      <th>country</th>\n",
       "      <th>movie_budget</th>\n",
       "      <th>title_year</th>\n",
       "      <th>imdb_score</th>\n",
       "    </tr>\n",
       "  </thead>\n",
       "  <tbody>\n",
       "    <tr>\n",
       "      <th>0</th>\n",
       "      <td>Color</td>\n",
       "      <td>James Cameron</td>\n",
       "      <td>178.0</td>\n",
       "      <td>760505847.0</td>\n",
       "      <td>CCH Pounder</td>\n",
       "      <td>Avatar</td>\n",
       "      <td>English</td>\n",
       "      <td>USA</td>\n",
       "      <td>237000000.0</td>\n",
       "      <td>2009</td>\n",
       "      <td>7.9</td>\n",
       "    </tr>\n",
       "    <tr>\n",
       "      <th>1</th>\n",
       "      <td>Color</td>\n",
       "      <td>Gore Verbinski</td>\n",
       "      <td>169.0</td>\n",
       "      <td>309404152.0</td>\n",
       "      <td>Johnny Depp</td>\n",
       "      <td>Pirates of the Caribbean: At World's End</td>\n",
       "      <td>English</td>\n",
       "      <td>USA</td>\n",
       "      <td>300000000.0</td>\n",
       "      <td>2007</td>\n",
       "      <td>7.1</td>\n",
       "    </tr>\n",
       "  </tbody>\n",
       "</table>\n",
       "</div>"
      ],
      "text/plain": [
       "   color   director_name  duration  movie_income    star_name  \\\n",
       "0  Color   James Cameron     178.0   760505847.0  CCH Pounder   \n",
       "1  Color  Gore Verbinski     169.0   309404152.0  Johnny Depp   \n",
       "\n",
       "                                movie_title Language country  movie_budget  \\\n",
       "0                                    Avatar  English     USA   237000000.0   \n",
       "1  Pirates of the Caribbean: At World's End  English     USA   300000000.0   \n",
       "\n",
       "   title_year  imdb_score  \n",
       "0        2009         7.9  \n",
       "1        2007         7.1  "
      ]
     },
     "execution_count": 12,
     "metadata": {},
     "output_type": "execute_result"
    }
   ],
   "source": [
    "data.rename(columns = {\"budget\" : \"movie_budget\"}, inplace=True)\n",
    "data.head(2)"
   ]
  },
  {
   "cell_type": "markdown",
   "id": "1b05ecfb-8c32-47b8-88d2-e2bfcbdd1502",
   "metadata": {},
   "source": [
    "**Data Analysis**<br /> \n",
    "    Let's checkout the distribution of duration column using a histogram."
   ]
  },
  {
   "cell_type": "code",
   "execution_count": 13,
   "id": "106a5b47-7661-4c7f-83e8-603f968c3c48",
   "metadata": {},
   "outputs": [
    {
     "data": {
      "text/html": [
       "<div>\n",
       "<style scoped>\n",
       "    .dataframe tbody tr th:only-of-type {\n",
       "        vertical-align: middle;\n",
       "    }\n",
       "\n",
       "    .dataframe tbody tr th {\n",
       "        vertical-align: top;\n",
       "    }\n",
       "\n",
       "    .dataframe thead th {\n",
       "        text-align: right;\n",
       "    }\n",
       "</style>\n",
       "<table border=\"1\" class=\"dataframe\">\n",
       "  <thead>\n",
       "    <tr style=\"text-align: right;\">\n",
       "      <th></th>\n",
       "      <th>color</th>\n",
       "      <th>director_name</th>\n",
       "      <th>duration</th>\n",
       "      <th>movie_income</th>\n",
       "      <th>star_name</th>\n",
       "      <th>movie_title</th>\n",
       "      <th>Language</th>\n",
       "      <th>country</th>\n",
       "      <th>movie_budget</th>\n",
       "      <th>title_year</th>\n",
       "      <th>imdb_score</th>\n",
       "    </tr>\n",
       "  </thead>\n",
       "  <tbody>\n",
       "    <tr>\n",
       "      <th>0</th>\n",
       "      <td>Color</td>\n",
       "      <td>James Cameron</td>\n",
       "      <td>178.0</td>\n",
       "      <td>760505847.0</td>\n",
       "      <td>CCH Pounder</td>\n",
       "      <td>Avatar</td>\n",
       "      <td>English</td>\n",
       "      <td>USA</td>\n",
       "      <td>237000000.0</td>\n",
       "      <td>2009</td>\n",
       "      <td>7.9</td>\n",
       "    </tr>\n",
       "    <tr>\n",
       "      <th>1</th>\n",
       "      <td>Color</td>\n",
       "      <td>Gore Verbinski</td>\n",
       "      <td>169.0</td>\n",
       "      <td>309404152.0</td>\n",
       "      <td>Johnny Depp</td>\n",
       "      <td>Pirates of the Caribbean: At World's End</td>\n",
       "      <td>English</td>\n",
       "      <td>USA</td>\n",
       "      <td>300000000.0</td>\n",
       "      <td>2007</td>\n",
       "      <td>7.1</td>\n",
       "    </tr>\n",
       "    <tr>\n",
       "      <th>2</th>\n",
       "      <td>Color</td>\n",
       "      <td>Sam Mendes</td>\n",
       "      <td>148.0</td>\n",
       "      <td>200074175.0</td>\n",
       "      <td>Christoph Waltz</td>\n",
       "      <td>Spectre</td>\n",
       "      <td>English</td>\n",
       "      <td>UK</td>\n",
       "      <td>245000000.0</td>\n",
       "      <td>2015</td>\n",
       "      <td>6.8</td>\n",
       "    </tr>\n",
       "  </tbody>\n",
       "</table>\n",
       "</div>"
      ],
      "text/plain": [
       "   color   director_name  duration  movie_income        star_name  \\\n",
       "0  Color   James Cameron     178.0   760505847.0      CCH Pounder   \n",
       "1  Color  Gore Verbinski     169.0   309404152.0      Johnny Depp   \n",
       "2  Color      Sam Mendes     148.0   200074175.0  Christoph Waltz   \n",
       "\n",
       "                                movie_title Language country  movie_budget  \\\n",
       "0                                    Avatar  English     USA   237000000.0   \n",
       "1  Pirates of the Caribbean: At World's End  English     USA   300000000.0   \n",
       "2                                   Spectre  English      UK   245000000.0   \n",
       "\n",
       "   title_year  imdb_score  \n",
       "0        2009         7.9  \n",
       "1        2007         7.1  \n",
       "2        2015         6.8  "
      ]
     },
     "execution_count": 13,
     "metadata": {},
     "output_type": "execute_result"
    }
   ],
   "source": [
    "data.head(3)"
   ]
  },
  {
   "cell_type": "code",
   "execution_count": 14,
   "id": "72144b34-9d57-4c30-8ae2-39727c35fe33",
   "metadata": {},
   "outputs": [
    {
     "data": {
      "text/plain": [
       "Text(0.5, 1.0, 'Movie Durations Histogram')"
      ]
     },
     "execution_count": 14,
     "metadata": {},
     "output_type": "execute_result"
    },
    {
     "data": {
      "image/png": "[encoded data removed]",
      "text/plain": [
       "<Figure size 800x600 with 1 Axes>"
      ]
     },
     "metadata": {},
     "output_type": "display_data"
    }
   ],
   "source": [
    "# data.duration.hist()\n",
    "# data.duration.hist(bins=20)\n",
    "# data.duration.hist(bins=20, figsize=(8,6))\n",
    "# data.duration.hist(bins=20, figsize=(8,6), grid=False)\n",
    "ax= data.duration.hist(bins=20, figsize=(8,6), grid=False)\n",
    "ax.set_xlabel(\"Movie Durations\")\n",
    "ax.set_ylabel(\"Count\")\n",
    "ax.set_title(\"Movie Durations Histogram\")"
   ]
  },
  {
   "cell_type": "markdown",
   "id": "97a4ac83-a2e8-41d4-aeac-eee28d2fb16c",
   "metadata": {},
   "source": [
    "**Exercise 3: Create a hitogram to see the distribution of `imdb_score` column**"
   ]
  },
  {
   "cell_type": "code",
   "execution_count": 15,
   "id": "1a7505b0-1259-4181-8960-77eeaaf68ad2",
   "metadata": {},
   "outputs": [
    {
     "data": {
      "text/plain": [
       "Text(0, 0.5, 'Count')"
      ]
     },
     "execution_count": 15,
     "metadata": {},
     "output_type": "execute_result"
    },
    {
     "data": {
      "image/png": "[encoded data removed]",
      "text/plain": [
       "<Figure size 1000x800 with 1 Axes>"
      ]
     },
     "metadata": {},
     "output_type": "display_data"
    }
   ],
   "source": [
    "ax= data.imdb_score.hist(figsize=(10,8), grid=False, bins=25)\n",
    "ax.set_title(\"Movie imdb_score Histogram\")\n",
    "ax.set_xlabel(\"Scores\")\n",
    "ax.set_ylabel(\"Count\")"
   ]
  },
  {
   "cell_type": "markdown",
   "id": "dc94cab5-bea3-4b42-8a77-f5e3a1fbdb74",
   "metadata": {},
   "source": [
    "**Let's check how many movies have the `imdb_score` less than `4`.**"
   ]
  },
  {
   "cell_type": "code",
   "execution_count": 16,
   "id": "2cd06d09-8f05-46ae-8cb2-b969966240a2",
   "metadata": {},
   "outputs": [
    {
     "data": {
      "text/html": [
       "<div>\n",
       "<style scoped>\n",
       "    .dataframe tbody tr th:only-of-type {\n",
       "        vertical-align: middle;\n",
       "    }\n",
       "\n",
       "    .dataframe tbody tr th {\n",
       "        vertical-align: top;\n",
       "    }\n",
       "\n",
       "    .dataframe thead th {\n",
       "        text-align: right;\n",
       "    }\n",
       "</style>\n",
       "<table border=\"1\" class=\"dataframe\">\n",
       "  <thead>\n",
       "    <tr style=\"text-align: right;\">\n",
       "      <th></th>\n",
       "      <th>color</th>\n",
       "      <th>director_name</th>\n",
       "      <th>duration</th>\n",
       "      <th>movie_income</th>\n",
       "      <th>star_name</th>\n",
       "      <th>movie_title</th>\n",
       "      <th>Language</th>\n",
       "      <th>country</th>\n",
       "      <th>movie_budget</th>\n",
       "      <th>title_year</th>\n",
       "      <th>imdb_score</th>\n",
       "    </tr>\n",
       "  </thead>\n",
       "  <tbody>\n",
       "    <tr>\n",
       "      <th>217</th>\n",
       "      <td>Color</td>\n",
       "      <td>Joel Schumacher</td>\n",
       "      <td>125.0</td>\n",
       "      <td>107285004.0</td>\n",
       "      <td>Michael Gough</td>\n",
       "      <td>Batman &amp; Robin</td>\n",
       "      <td>English</td>\n",
       "      <td>USA</td>\n",
       "      <td>125000000.0</td>\n",
       "      <td>1997</td>\n",
       "      <td>3.7</td>\n",
       "    </tr>\n",
       "    <tr>\n",
       "      <th>267</th>\n",
       "      <td>Color</td>\n",
       "      <td>Jan de Bont</td>\n",
       "      <td>121.0</td>\n",
       "      <td>48068396.0</td>\n",
       "      <td>Jason Patric</td>\n",
       "      <td>Speed 2: Cruise Control</td>\n",
       "      <td>English</td>\n",
       "      <td>USA</td>\n",
       "      <td>160000000.0</td>\n",
       "      <td>1997</td>\n",
       "      <td>3.7</td>\n",
       "    </tr>\n",
       "    <tr>\n",
       "      <th>273</th>\n",
       "      <td>Color</td>\n",
       "      <td>Bo Welch</td>\n",
       "      <td>82.0</td>\n",
       "      <td>100446895.0</td>\n",
       "      <td>Sean Hayes</td>\n",
       "      <td>The Cat in the Hat</td>\n",
       "      <td>English</td>\n",
       "      <td>USA</td>\n",
       "      <td>109000000.0</td>\n",
       "      <td>2003</td>\n",
       "      <td>3.8</td>\n",
       "    </tr>\n",
       "    <tr>\n",
       "      <th>313</th>\n",
       "      <td>Color</td>\n",
       "      <td>Pitof</td>\n",
       "      <td>87.0</td>\n",
       "      <td>40198710.0</td>\n",
       "      <td>Frances Conroy</td>\n",
       "      <td>Catwoman</td>\n",
       "      <td>English</td>\n",
       "      <td>USA</td>\n",
       "      <td>100000000.0</td>\n",
       "      <td>2004</td>\n",
       "      <td>3.3</td>\n",
       "    </tr>\n",
       "    <tr>\n",
       "      <th>319</th>\n",
       "      <td>Color</td>\n",
       "      <td>Lawrence Guterman</td>\n",
       "      <td>94.0</td>\n",
       "      <td>17010646.0</td>\n",
       "      <td>Jamie Kennedy</td>\n",
       "      <td>Son of the Mask</td>\n",
       "      <td>English</td>\n",
       "      <td>USA</td>\n",
       "      <td>84000000.0</td>\n",
       "      <td>2005</td>\n",
       "      <td>2.2</td>\n",
       "    </tr>\n",
       "    <tr>\n",
       "      <th>...</th>\n",
       "      <td>...</td>\n",
       "      <td>...</td>\n",
       "      <td>...</td>\n",
       "      <td>...</td>\n",
       "      <td>...</td>\n",
       "      <td>...</td>\n",
       "      <td>...</td>\n",
       "      <td>...</td>\n",
       "      <td>...</td>\n",
       "      <td>...</td>\n",
       "      <td>...</td>\n",
       "    </tr>\n",
       "    <tr>\n",
       "      <th>4988</th>\n",
       "      <td>Color</td>\n",
       "      <td>Terron R. Parsons</td>\n",
       "      <td>93.0</td>\n",
       "      <td>NaN</td>\n",
       "      <td>Richard Tyson</td>\n",
       "      <td>Hayride</td>\n",
       "      <td>English</td>\n",
       "      <td>USA</td>\n",
       "      <td>60000.0</td>\n",
       "      <td>2012</td>\n",
       "      <td>3.4</td>\n",
       "    </tr>\n",
       "    <tr>\n",
       "      <th>5000</th>\n",
       "      <td>Color</td>\n",
       "      <td>Travis Legge</td>\n",
       "      <td>83.0</td>\n",
       "      <td>NaN</td>\n",
       "      <td>Elissa Dowling</td>\n",
       "      <td>Raymond Did It</td>\n",
       "      <td>English</td>\n",
       "      <td>USA</td>\n",
       "      <td>40000.0</td>\n",
       "      <td>2011</td>\n",
       "      <td>3.2</td>\n",
       "    </tr>\n",
       "    <tr>\n",
       "      <th>5002</th>\n",
       "      <td>Color</td>\n",
       "      <td>Collin Joseph Neal</td>\n",
       "      <td>75.0</td>\n",
       "      <td>NaN</td>\n",
       "      <td>Julianne Gabert</td>\n",
       "      <td>Run, Hide, Die</td>\n",
       "      <td>English</td>\n",
       "      <td>USA</td>\n",
       "      <td>50000.0</td>\n",
       "      <td>2012</td>\n",
       "      <td>3.7</td>\n",
       "    </tr>\n",
       "    <tr>\n",
       "      <th>5017</th>\n",
       "      <td>Color</td>\n",
       "      <td>Travis Legge</td>\n",
       "      <td>90.0</td>\n",
       "      <td>NaN</td>\n",
       "      <td>Kristen Seavey</td>\n",
       "      <td>Dry Spell</td>\n",
       "      <td>English</td>\n",
       "      <td>USA</td>\n",
       "      <td>22000.0</td>\n",
       "      <td>2013</td>\n",
       "      <td>3.3</td>\n",
       "    </tr>\n",
       "    <tr>\n",
       "      <th>5020</th>\n",
       "      <td>NaN</td>\n",
       "      <td>Brandon Landers</td>\n",
       "      <td>143.0</td>\n",
       "      <td>NaN</td>\n",
       "      <td>Robbie Barnes</td>\n",
       "      <td>The Ridges</td>\n",
       "      <td>English</td>\n",
       "      <td>USA</td>\n",
       "      <td>17350.0</td>\n",
       "      <td>2011</td>\n",
       "      <td>3.0</td>\n",
       "    </tr>\n",
       "  </tbody>\n",
       "</table>\n",
       "<p>156 rows × 11 columns</p>\n",
       "</div>"
      ],
      "text/plain": [
       "      color       director_name  duration  movie_income        star_name  \\\n",
       "217   Color     Joel Schumacher     125.0   107285004.0    Michael Gough   \n",
       "267   Color         Jan de Bont     121.0    48068396.0     Jason Patric   \n",
       "273   Color            Bo Welch      82.0   100446895.0       Sean Hayes   \n",
       "313   Color               Pitof      87.0    40198710.0   Frances Conroy   \n",
       "319   Color   Lawrence Guterman      94.0    17010646.0    Jamie Kennedy   \n",
       "...     ...                 ...       ...           ...              ...   \n",
       "4988  Color   Terron R. Parsons      93.0           NaN    Richard Tyson   \n",
       "5000  Color        Travis Legge      83.0           NaN   Elissa Dowling   \n",
       "5002  Color  Collin Joseph Neal      75.0           NaN  Julianne Gabert   \n",
       "5017  Color        Travis Legge      90.0           NaN   Kristen Seavey   \n",
       "5020    NaN     Brandon Landers     143.0           NaN    Robbie Barnes   \n",
       "\n",
       "                  movie_title Language country  movie_budget  title_year  \\\n",
       "217            Batman & Robin  English     USA   125000000.0        1997   \n",
       "267   Speed 2: Cruise Control  English     USA   160000000.0        1997   \n",
       "273        The Cat in the Hat  English     USA   109000000.0        2003   \n",
       "313                  Catwoman  English     USA   100000000.0        2004   \n",
       "319           Son of the Mask  English     USA    84000000.0        2005   \n",
       "...                       ...      ...     ...           ...         ...   \n",
       "4988                  Hayride  English     USA       60000.0        2012   \n",
       "5000           Raymond Did It  English     USA       40000.0        2011   \n",
       "5002           Run, Hide, Die  English     USA       50000.0        2012   \n",
       "5017                Dry Spell  English     USA       22000.0        2013   \n",
       "5020               The Ridges  English     USA       17350.0        2011   \n",
       "\n",
       "      imdb_score  \n",
       "217          3.7  \n",
       "267          3.7  \n",
       "273          3.8  \n",
       "313          3.3  \n",
       "319          2.2  \n",
       "...          ...  \n",
       "4988         3.4  \n",
       "5000         3.2  \n",
       "5002         3.7  \n",
       "5017         3.3  \n",
       "5020         3.0  \n",
       "\n",
       "[156 rows x 11 columns]"
      ]
     },
     "execution_count": 16,
     "metadata": {},
     "output_type": "execute_result"
    }
   ],
   "source": [
    "#data.imdb_score < 4\n",
    "low_score_movies=data[data.imdb_score <4]\n",
    "low_score_movies"
   ]
  },
  {
   "cell_type": "code",
   "execution_count": 17,
   "id": "55ec825d-4382-42e9-8267-5bee662581fc",
   "metadata": {},
   "outputs": [
    {
     "data": {
      "text/plain": [
       "(156, 11)"
      ]
     },
     "execution_count": 17,
     "metadata": {},
     "output_type": "execute_result"
    }
   ],
   "source": [
    "low_score_movies.shape"
   ]
  },
  {
   "cell_type": "markdown",
   "id": "8bd20929-1352-426b-a192-b5486598cbed",
   "metadata": {},
   "source": [
    "**Exercise: Use a histogram to visualize the distribution of movie IMdb score in that are produced in `USA`.**"
   ]
  },
  {
   "cell_type": "code",
   "execution_count": 18,
   "id": "c7360788-ac72-4147-aa3c-291a440c4ce2",
   "metadata": {},
   "outputs": [
    {
     "data": {
      "text/plain": [
       "<Axes: >"
      ]
     },
     "execution_count": 18,
     "metadata": {},
     "output_type": "execute_result"
    },
    {
     "data": {
      "image/png": "[encoded data removed]",
      "text/plain": [
       "<Figure size 640x480 with 1 Axes>"
      ]
     },
     "metadata": {},
     "output_type": "display_data"
    }
   ],
   "source": [
    "# data.country == \"USA\"\n",
    "# data[data.country == \"UK\"].imdb_score.hist(grid=False, bins =25)\n",
    "data[data.country == \"USA\"].imdb_score.hist(grid=False, bins =25)"
   ]
  },
  {
   "cell_type": "markdown",
   "id": "3b57607a-eaf0-49f5-92ee-e49575b6a3ff",
   "metadata": {},
   "source": [
    "---\n",
    "### Let's answer to some analytical questions \n",
    "    \n",
    "Question 1 - In which year we have the `highest` and `lowest` number of movies?\n"
   ]
  },
  {
   "cell_type": "markdown",
   "id": "2791f141-e8b2-434b-9ae0-ee2b4e613eb0",
   "metadata": {},
   "source": [
    "Now finding out number of movies per year"
   ]
  },
  {
   "cell_type": "code",
   "execution_count": 19,
   "id": "30a7e32b-6628-4104-bf29-d9fea45bc920",
   "metadata": {},
   "outputs": [
    {
     "data": {
      "text/plain": [
       "title_year\n",
       "1916      1\n",
       "1920      1\n",
       "1925      1\n",
       "1927      1\n",
       "1929      2\n",
       "       ... \n",
       "2012    221\n",
       "2013    237\n",
       "2014    252\n",
       "2015    226\n",
       "2016    106\n",
       "Length: 91, dtype: int64"
      ]
     },
     "execution_count": 19,
     "metadata": {},
     "output_type": "execute_result"
    }
   ],
   "source": [
    "## Create Line Charts and Bar Charts to Visualize Time\n",
    "\n",
    "count_per_year = data.groupby('title_year').size()\n",
    "count_per_year\n",
    "# count_per_year[2010]\n",
    "\n",
    "# count_per_year.max()\n",
    "# count_per_year.idxmax()\n",
    "\n",
    "# count_per_year.min()\n",
    "# count_per_year.idxmin()"
   ]
  },
  {
   "cell_type": "code",
   "execution_count": 20,
   "id": "0494bb17-3aa6-48a7-a01f-d0a7fbee62a6",
   "metadata": {},
   "outputs": [
    {
     "data": {
      "text/plain": [
       "Text(0, 0.5, '#movies')"
      ]
     },
     "execution_count": 20,
     "metadata": {},
     "output_type": "execute_result"
    },
    {
     "data": {
      "image/png": "[encoded data removed]",
      "text/plain": [
       "<Figure size 800x600 with 1 Axes>"
      ]
     },
     "metadata": {},
     "output_type": "display_data"
    }
   ],
   "source": [
    "#ax= count_per_year.plot()\n",
    "ax= count_per_year.plot(figsize=(8,6))\n",
    "ax.set_xlabel(\"years\")\n",
    "ax.set_ylabel(\"#movies\")"
   ]
  },
  {
   "cell_type": "markdown",
   "id": "0d0b3ad7-b5fd-46cf-8a85-851f99c4b5ea",
   "metadata": {},
   "source": [
    "**Question 2 - In which year we have `minimum` and `maximum` average `imdb_score` ?** "
   ]
  },
  {
   "cell_type": "markdown",
   "id": "8645381b-031f-4b88-9123-8dbab678d45c",
   "metadata": {},
   "source": [
    "Finding average imdb score per year "
   ]
  },
  {
   "cell_type": "code",
   "execution_count": 21,
   "id": "9f147d98-1a7e-473b-9b19-d10fb8e1bc38",
   "metadata": {},
   "outputs": [
    {
     "data": {
      "text/plain": [
       "title_year\n",
       "1916    8.000000\n",
       "1920    4.800000\n",
       "1925    8.300000\n",
       "1927    8.300000\n",
       "1929    7.150000\n",
       "          ...   \n",
       "2012    6.266516\n",
       "2013    6.369620\n",
       "2014    6.228175\n",
       "2015    6.033628\n",
       "2016    6.399057\n",
       "Name: imdb_score, Length: 91, dtype: float64"
      ]
     },
     "execution_count": 21,
     "metadata": {},
     "output_type": "execute_result"
    }
   ],
   "source": [
    "avgscores= data.groupby(\"title_year\")[\"imdb_score\"].mean()\n",
    "avgscores"
   ]
  },
  {
   "cell_type": "markdown",
   "id": "37090585-4557-49a2-a883-38c185a4aaf9",
   "metadata": {},
   "source": [
    "**Let's Use a barchart to visualize the result**"
   ]
  },
  {
   "cell_type": "code",
   "execution_count": 22,
   "id": "17a3aec2-5df1-4347-9ffe-d81c170beecc",
   "metadata": {},
   "outputs": [
    {
     "data": {
      "text/plain": [
       "Text(0, 0.5, 'avg')"
      ]
     },
     "execution_count": 22,
     "metadata": {},
     "output_type": "execute_result"
    },
    {
     "data": {
      "image/png": "[encoded data removed]",
      "text/plain": [
       "<Figure size 1800x800 with 1 Axes>"
      ]
     },
     "metadata": {},
     "output_type": "display_data"
    }
   ],
   "source": [
    "# ax = avgscores.plot()\n",
    "\n",
    "#ax = avgscores.plot.bar()\n",
    "\n",
    "ax = avgscores.plot.bar(figsize=(18,8), title =\"Average Imdb score per year\")\n",
    "ax.set_ylabel(\"avg\")"
   ]
  },
  {
   "cell_type": "markdown",
   "id": "8d2b7e9f-7c79-432d-8af1-524d995bd7a3",
   "metadata": {},
   "source": [
    "**Exercise 4:**\n",
    "Question 3 - In which year we have the `minimum` and `maximum` spent movie budget?"
   ]
  },
  {
   "cell_type": "code",
   "execution_count": 23,
   "id": "0ab64910-bdfa-49d6-80df-e305210ba876",
   "metadata": {},
   "outputs": [
    {
     "data": {
      "text/plain": [
       "<Axes: xlabel='title_year'>"
      ]
     },
     "execution_count": 23,
     "metadata": {},
     "output_type": "execute_result"
    },
    {
     "data": {
      "image/png": "[encoded data removed]",
      "text/plain": [
       "<Figure size 640x480 with 1 Axes>"
      ]
     },
     "metadata": {},
     "output_type": "display_data"
    }
   ],
   "source": [
    "# data.groupby(\"title_year\")[\"budget\"].sum()\n",
    "data.groupby(\"title_year\")[\"movie_budget\"].sum().plot()\n",
    "\n",
    "# data.groupby(\"title_year\")[\"budget\"].sum().idxmax()\n",
    "# data.groupby(\"title_year\")[\"budget\"].sum().max()\n",
    "\n",
    "# data.groupby(\"title_year\")[\"budget\"].sum().idxmin()\n",
    "# data.groupby(\"title_year\")[\"budget\"].sum().min()"
   ]
  },
  {
   "cell_type": "markdown",
   "id": "64ab30be-d812-49a2-a560-bc41996eac5f",
   "metadata": {},
   "source": [
    "**Question 4 - Is there any relationship between IMdb score of a movie and the movie income?**\n",
    "\n",
    "To approaches to solve this question:\n",
    "- Visual Correlation Analysis \n",
    "- Generating the Correlation Matirx"
   ]
  },
  {
   "cell_type": "code",
   "execution_count": 24,
   "id": "ae2b36f9-c87f-4860-b354-dbe301544f8b",
   "metadata": {},
   "outputs": [
    {
     "data": {
      "text/html": [
       "<div>\n",
       "<style scoped>\n",
       "    .dataframe tbody tr th:only-of-type {\n",
       "        vertical-align: middle;\n",
       "    }\n",
       "\n",
       "    .dataframe tbody tr th {\n",
       "        vertical-align: top;\n",
       "    }\n",
       "\n",
       "    .dataframe thead th {\n",
       "        text-align: right;\n",
       "    }\n",
       "</style>\n",
       "<table border=\"1\" class=\"dataframe\">\n",
       "  <thead>\n",
       "    <tr style=\"text-align: right;\">\n",
       "      <th></th>\n",
       "      <th>imdb_score</th>\n",
       "      <th>movie_income</th>\n",
       "    </tr>\n",
       "  </thead>\n",
       "  <tbody>\n",
       "    <tr>\n",
       "      <th>0</th>\n",
       "      <td>7.9</td>\n",
       "      <td>760505847.0</td>\n",
       "    </tr>\n",
       "    <tr>\n",
       "      <th>1</th>\n",
       "      <td>7.1</td>\n",
       "      <td>309404152.0</td>\n",
       "    </tr>\n",
       "    <tr>\n",
       "      <th>2</th>\n",
       "      <td>6.8</td>\n",
       "      <td>200074175.0</td>\n",
       "    </tr>\n",
       "    <tr>\n",
       "      <th>3</th>\n",
       "      <td>8.5</td>\n",
       "      <td>448130642.0</td>\n",
       "    </tr>\n",
       "    <tr>\n",
       "      <th>4</th>\n",
       "      <td>7.1</td>\n",
       "      <td>NaN</td>\n",
       "    </tr>\n",
       "    <tr>\n",
       "      <th>...</th>\n",
       "      <td>...</td>\n",
       "      <td>...</td>\n",
       "    </tr>\n",
       "    <tr>\n",
       "      <th>5038</th>\n",
       "      <td>7.7</td>\n",
       "      <td>NaN</td>\n",
       "    </tr>\n",
       "    <tr>\n",
       "      <th>5039</th>\n",
       "      <td>7.5</td>\n",
       "      <td>NaN</td>\n",
       "    </tr>\n",
       "    <tr>\n",
       "      <th>5040</th>\n",
       "      <td>6.3</td>\n",
       "      <td>NaN</td>\n",
       "    </tr>\n",
       "    <tr>\n",
       "      <th>5041</th>\n",
       "      <td>6.3</td>\n",
       "      <td>10443.0</td>\n",
       "    </tr>\n",
       "    <tr>\n",
       "      <th>5042</th>\n",
       "      <td>6.6</td>\n",
       "      <td>85222.0</td>\n",
       "    </tr>\n",
       "  </tbody>\n",
       "</table>\n",
       "<p>5043 rows × 2 columns</p>\n",
       "</div>"
      ],
      "text/plain": [
       "      imdb_score  movie_income\n",
       "0            7.9   760505847.0\n",
       "1            7.1   309404152.0\n",
       "2            6.8   200074175.0\n",
       "3            8.5   448130642.0\n",
       "4            7.1           NaN\n",
       "...          ...           ...\n",
       "5038         7.7           NaN\n",
       "5039         7.5           NaN\n",
       "5040         6.3           NaN\n",
       "5041         6.3       10443.0\n",
       "5042         6.6       85222.0\n",
       "\n",
       "[5043 rows x 2 columns]"
      ]
     },
     "execution_count": 24,
     "metadata": {},
     "output_type": "execute_result"
    }
   ],
   "source": [
    "# Question 4 - Is there any relationship between IMdb score of a movie and the movie income?\n",
    "\n",
    "# To approaches to solve this question:\n",
    "\n",
    "# Visual Correlation Analysis\n",
    "# Generating the Correlation Matirx\n",
    "\n",
    "data_q4 = data[[\"imdb_score\", \"movie_income\"]]\n",
    "data_q4"
   ]
  },
  {
   "cell_type": "markdown",
   "id": "f22de2f3-ee78-4f7a-bd2c-1a5c3e009fe5",
   "metadata": {},
   "source": [
    "**Let's drop the rows with `non` values**"
   ]
  },
  {
   "cell_type": "code",
   "execution_count": 25,
   "id": "6f7b81a9-4cd8-474e-8d2e-aed0100f461f",
   "metadata": {},
   "outputs": [
    {
     "data": {
      "text/html": [
       "<div>\n",
       "<style scoped>\n",
       "    .dataframe tbody tr th:only-of-type {\n",
       "        vertical-align: middle;\n",
       "    }\n",
       "\n",
       "    .dataframe tbody tr th {\n",
       "        vertical-align: top;\n",
       "    }\n",
       "\n",
       "    .dataframe thead th {\n",
       "        text-align: right;\n",
       "    }\n",
       "</style>\n",
       "<table border=\"1\" class=\"dataframe\">\n",
       "  <thead>\n",
       "    <tr style=\"text-align: right;\">\n",
       "      <th></th>\n",
       "      <th>imdb_score</th>\n",
       "      <th>movie_income</th>\n",
       "    </tr>\n",
       "  </thead>\n",
       "  <tbody>\n",
       "    <tr>\n",
       "      <th>0</th>\n",
       "      <td>7.9</td>\n",
       "      <td>760505847.0</td>\n",
       "    </tr>\n",
       "    <tr>\n",
       "      <th>1</th>\n",
       "      <td>7.1</td>\n",
       "      <td>309404152.0</td>\n",
       "    </tr>\n",
       "    <tr>\n",
       "      <th>2</th>\n",
       "      <td>6.8</td>\n",
       "      <td>200074175.0</td>\n",
       "    </tr>\n",
       "    <tr>\n",
       "      <th>3</th>\n",
       "      <td>8.5</td>\n",
       "      <td>448130642.0</td>\n",
       "    </tr>\n",
       "    <tr>\n",
       "      <th>4</th>\n",
       "      <td>7.1</td>\n",
       "      <td>NaN</td>\n",
       "    </tr>\n",
       "    <tr>\n",
       "      <th>...</th>\n",
       "      <td>...</td>\n",
       "      <td>...</td>\n",
       "    </tr>\n",
       "    <tr>\n",
       "      <th>5038</th>\n",
       "      <td>7.7</td>\n",
       "      <td>NaN</td>\n",
       "    </tr>\n",
       "    <tr>\n",
       "      <th>5039</th>\n",
       "      <td>7.5</td>\n",
       "      <td>NaN</td>\n",
       "    </tr>\n",
       "    <tr>\n",
       "      <th>5040</th>\n",
       "      <td>6.3</td>\n",
       "      <td>NaN</td>\n",
       "    </tr>\n",
       "    <tr>\n",
       "      <th>5041</th>\n",
       "      <td>6.3</td>\n",
       "      <td>10443.0</td>\n",
       "    </tr>\n",
       "    <tr>\n",
       "      <th>5042</th>\n",
       "      <td>6.6</td>\n",
       "      <td>85222.0</td>\n",
       "    </tr>\n",
       "  </tbody>\n",
       "</table>\n",
       "<p>5043 rows × 2 columns</p>\n",
       "</div>"
      ],
      "text/plain": [
       "      imdb_score  movie_income\n",
       "0            7.9   760505847.0\n",
       "1            7.1   309404152.0\n",
       "2            6.8   200074175.0\n",
       "3            8.5   448130642.0\n",
       "4            7.1           NaN\n",
       "...          ...           ...\n",
       "5038         7.7           NaN\n",
       "5039         7.5           NaN\n",
       "5040         6.3           NaN\n",
       "5041         6.3       10443.0\n",
       "5042         6.6       85222.0\n",
       "\n",
       "[5043 rows x 2 columns]"
      ]
     },
     "execution_count": 25,
     "metadata": {},
     "output_type": "execute_result"
    }
   ],
   "source": [
    "# Let's drop the rows with non values\n",
    "data_q4.dropna()\n",
    "\n",
    "#data_q4.dropna(inplace=True)\n",
    "data_q4"
   ]
  },
  {
   "cell_type": "markdown",
   "id": "4de27522-4c45-4158-aae1-1fdff79ee4e9",
   "metadata": {},
   "source": [
    "**Let's create a scatter plot to see the data**"
   ]
  },
  {
   "cell_type": "code",
   "execution_count": 26,
   "id": "6de08b23-0e53-43eb-a275-6e6db7d4335a",
   "metadata": {},
   "outputs": [
    {
     "data": {
      "text/plain": [
       "<Axes: xlabel='movie_income', ylabel='imdb_score'>"
      ]
     },
     "execution_count": 26,
     "metadata": {},
     "output_type": "execute_result"
    },
    {
     "data": {
      "image/png": "[encoded data removed]",
      "text/plain": [
       "<Figure size 1000x1000 with 1 Axes>"
      ]
     },
     "metadata": {},
     "output_type": "display_data"
    }
   ],
   "source": [
    "data_q4.plot.scatter(x='movie_income', y='imdb_score', figsize=(10,10))"
   ]
  },
  {
   "cell_type": "markdown",
   "id": "93dbe5e5-4214-4822-8dfc-0404e4ec648c",
   "metadata": {},
   "source": [
    "**Let's generate the correlation matrix**"
   ]
  },
  {
   "cell_type": "code",
   "execution_count": 27,
   "id": "d614491d-ba46-4695-9821-ad0df4b4462c",
   "metadata": {},
   "outputs": [
    {
     "data": {
      "text/html": [
       "<div>\n",
       "<style scoped>\n",
       "    .dataframe tbody tr th:only-of-type {\n",
       "        vertical-align: middle;\n",
       "    }\n",
       "\n",
       "    .dataframe tbody tr th {\n",
       "        vertical-align: top;\n",
       "    }\n",
       "\n",
       "    .dataframe thead th {\n",
       "        text-align: right;\n",
       "    }\n",
       "</style>\n",
       "<table border=\"1\" class=\"dataframe\">\n",
       "  <thead>\n",
       "    <tr style=\"text-align: right;\">\n",
       "      <th></th>\n",
       "      <th>imdb_score</th>\n",
       "      <th>movie_income</th>\n",
       "    </tr>\n",
       "  </thead>\n",
       "  <tbody>\n",
       "    <tr>\n",
       "      <th>imdb_score</th>\n",
       "      <td>1.000000</td>\n",
       "      <td>0.198021</td>\n",
       "    </tr>\n",
       "    <tr>\n",
       "      <th>movie_income</th>\n",
       "      <td>0.198021</td>\n",
       "      <td>1.000000</td>\n",
       "    </tr>\n",
       "  </tbody>\n",
       "</table>\n",
       "</div>"
      ],
      "text/plain": [
       "              imdb_score  movie_income\n",
       "imdb_score      1.000000      0.198021\n",
       "movie_income    0.198021      1.000000"
      ]
     },
     "execution_count": 27,
     "metadata": {},
     "output_type": "execute_result"
    }
   ],
   "source": [
    "data_q4.corr()"
   ]
  }
 ],
 "metadata": {
  "kernelspec": {
   "display_name": "Python 3 (ipykernel)",
   "language": "python",
   "name": "python3"
  },
  "language_info": {
   "codemirror_mode": {
    "name": "ipython",
    "version": 3
   },
   "file_extension": ".py",
   "mimetype": "text/x-python",
   "name": "python",
   "nbconvert_exporter": "python",
   "pygments_lexer": "ipython3",
   "version": "3.13.1"
  }
 },
 "nbformat": 4,
 "nbformat_minor": 5
}
